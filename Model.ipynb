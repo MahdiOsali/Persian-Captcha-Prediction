{
 "cells": [
  {
   "cell_type": "code",
   "execution_count": 5,
   "id": "7152dcfb",
   "metadata": {},
   "outputs": [],
   "source": [
    "from tensorflow import keras\n",
    "import pandas as pd\n",
    "import numpy as np\n",
    "import os\n",
    "import matplotlib.pyplot as plt"
   ]
  },
  {
   "cell_type": "code",
   "execution_count": 2,
   "id": "3fcc3838",
   "metadata": {},
   "outputs": [],
   "source": [
    "# Concat csvs\n",
    "file_names = ['captcha_labels(0_500).csv' , 'captcha_labels(501_1000).csv' , 'captcha_labels(5000_5251).csv', 'captcha_labels(5252_6001).csv']\n",
    "combined_df = pd.DataFrame() # Initialize an empty DataFrame\n",
    "for file in file_names:\n",
    "    df = pd.read_csv(file)\n",
    "    combined_df = pd.concat([combined_df, df], ignore_index=True)\n",
    "\n",
    "image_dir = 'Total_Captcha_Labels'"
   ]
  },
  {
   "cell_type": "code",
   "execution_count": 3,
   "id": "77f1e777",
   "metadata": {},
   "outputs": [
    {
     "data": {
      "text/html": [
       "<div>\n",
       "<style scoped>\n",
       "    .dataframe tbody tr th:only-of-type {\n",
       "        vertical-align: middle;\n",
       "    }\n",
       "\n",
       "    .dataframe tbody tr th {\n",
       "        vertical-align: top;\n",
       "    }\n",
       "\n",
       "    .dataframe thead th {\n",
       "        text-align: right;\n",
       "    }\n",
       "</style>\n",
       "<table border=\"1\" class=\"dataframe\">\n",
       "  <thead>\n",
       "    <tr style=\"text-align: right;\">\n",
       "      <th></th>\n",
       "      <th>filename</th>\n",
       "      <th>label0</th>\n",
       "      <th>label1</th>\n",
       "      <th>label2</th>\n",
       "      <th>label3</th>\n",
       "      <th>label4</th>\n",
       "    </tr>\n",
       "  </thead>\n",
       "  <tbody>\n",
       "    <tr>\n",
       "      <th>0</th>\n",
       "      <td>captcha0.png</td>\n",
       "      <td>2</td>\n",
       "      <td>5</td>\n",
       "      <td>6</td>\n",
       "      <td>6</td>\n",
       "      <td>1</td>\n",
       "    </tr>\n",
       "    <tr>\n",
       "      <th>1</th>\n",
       "      <td>captcha1.png</td>\n",
       "      <td>5</td>\n",
       "      <td>1</td>\n",
       "      <td>0</td>\n",
       "      <td>9</td>\n",
       "      <td>0</td>\n",
       "    </tr>\n",
       "    <tr>\n",
       "      <th>2</th>\n",
       "      <td>captcha10.png</td>\n",
       "      <td>9</td>\n",
       "      <td>0</td>\n",
       "      <td>2</td>\n",
       "      <td>2</td>\n",
       "      <td>9</td>\n",
       "    </tr>\n",
       "    <tr>\n",
       "      <th>3</th>\n",
       "      <td>captcha100.png</td>\n",
       "      <td>1</td>\n",
       "      <td>5</td>\n",
       "      <td>4</td>\n",
       "      <td>0</td>\n",
       "      <td>4</td>\n",
       "    </tr>\n",
       "    <tr>\n",
       "      <th>4</th>\n",
       "      <td>captcha101.png</td>\n",
       "      <td>8</td>\n",
       "      <td>4</td>\n",
       "      <td>5</td>\n",
       "      <td>2</td>\n",
       "      <td>2</td>\n",
       "    </tr>\n",
       "  </tbody>\n",
       "</table>\n",
       "</div>"
      ],
      "text/plain": [
       "         filename  label0  label1  label2  label3  label4\n",
       "0    captcha0.png       2       5       6       6       1\n",
       "1    captcha1.png       5       1       0       9       0\n",
       "2   captcha10.png       9       0       2       2       9\n",
       "3  captcha100.png       1       5       4       0       4\n",
       "4  captcha101.png       8       4       5       2       2"
      ]
     },
     "execution_count": 3,
     "metadata": {},
     "output_type": "execute_result"
    }
   ],
   "source": [
    "combined_df.head()"
   ]
  },
  {
   "cell_type": "code",
   "execution_count": 4,
   "id": "5358544b",
   "metadata": {},
   "outputs": [
    {
     "data": {
      "text/plain": [
       "filename         label0  label1  label2  label3  label4\n",
       "captcha999.png   7       9       3       7       6         1\n",
       "captcha0.png     2       5       6       6       1         1\n",
       "captcha1.png     5       1       0       9       0         1\n",
       "captcha984.png   3       0       9       3       8         1\n",
       "captcha983.png   7       1       1       7       7         1\n",
       "                                                          ..\n",
       "captcha103.png   8       4       4       3       6         1\n",
       "captcha102.png   1       2       5       5       1         1\n",
       "captcha101.png   8       4       5       2       2         1\n",
       "captcha1000.png  9       5       3       4       0         1\n",
       "captcha100.png   1       5       4       0       4         1\n",
       "Name: count, Length: 2003, dtype: int64"
      ]
     },
     "execution_count": 4,
     "metadata": {},
     "output_type": "execute_result"
    }
   ],
   "source": [
    "combined_df.value_counts()"
   ]
  },
  {
   "cell_type": "code",
   "execution_count": 5,
   "id": "c1e8759e",
   "metadata": {},
   "outputs": [],
   "source": [
    "def load_images_and_labels(combined_df, image_dir,num_digits):\n",
    "    \n",
    "    X = []\n",
    "    y = [[] for _ in range(num_digits)]\n",
    "    \n",
    "    for idx, row in combined_df.iterrows():\n",
    "        img_path = os.path.join(image_dir, row['filename'])\n",
    "        img = keras.preprocessing.image.load_img(img_path, target_size=(img_height, img_width), color_mode='grayscale')\n",
    "        img = keras.preprocessing.image.img_to_array(img) / 255.0\n",
    "        X.append(img)\n",
    "        \n",
    "        for i in range(num_digits):\n",
    "            y[i].append(row[f'label{i}'])\n",
    "            \n",
    "    X = np.array(X)\n",
    "    y = [keras.utils.to_categorical(np.array(digit_labels), num_classes=num_classes) for digit_labels in y]\n",
    "    \n",
    "    return X, y\n",
    "\n",
    "\n",
    "num_digits = 5\n",
    "img_height = 40\n",
    "img_width = 100\n",
    "num_classes = 10\n",
    "\n",
    "X, y = load_images_and_labels(combined_df, image_dir,num_digits)"
   ]
  },
  {
   "cell_type": "code",
   "execution_count": 6,
   "id": "dfbf4912",
   "metadata": {},
   "outputs": [
    {
     "data": {
      "text/plain": [
       "(2003, 40, 100, 1)"
      ]
     },
     "execution_count": 6,
     "metadata": {},
     "output_type": "execute_result"
    }
   ],
   "source": [
    "X.shape"
   ]
  },
  {
   "cell_type": "code",
   "execution_count": 7,
   "id": "a5d47a85",
   "metadata": {},
   "outputs": [
    {
     "data": {
      "text/plain": [
       "array([[[1.        ],\n",
       "        [1.        ],\n",
       "        [1.        ],\n",
       "        ...,\n",
       "        [1.        ],\n",
       "        [1.        ],\n",
       "        [1.        ]],\n",
       "\n",
       "       [[1.        ],\n",
       "        [0.9764706 ],\n",
       "        [1.        ],\n",
       "        ...,\n",
       "        [0.9764706 ],\n",
       "        [1.        ],\n",
       "        [0.9764706 ]],\n",
       "\n",
       "       [[1.        ],\n",
       "        [1.        ],\n",
       "        [0.9764706 ],\n",
       "        ...,\n",
       "        [1.        ],\n",
       "        [1.        ],\n",
       "        [1.        ]],\n",
       "\n",
       "       ...,\n",
       "\n",
       "       [[1.        ],\n",
       "        [0.9764706 ],\n",
       "        [1.        ],\n",
       "        ...,\n",
       "        [0.9764706 ],\n",
       "        [1.        ],\n",
       "        [1.        ]],\n",
       "\n",
       "       [[1.        ],\n",
       "        [1.        ],\n",
       "        [0.88235295],\n",
       "        ...,\n",
       "        [1.        ],\n",
       "        [1.        ],\n",
       "        [0.9764706 ]],\n",
       "\n",
       "       [[0.9764706 ],\n",
       "        [1.        ],\n",
       "        [1.        ],\n",
       "        ...,\n",
       "        [0.88235295],\n",
       "        [1.        ],\n",
       "        [1.        ]]], dtype=float32)"
      ]
     },
     "execution_count": 7,
     "metadata": {},
     "output_type": "execute_result"
    }
   ],
   "source": [
    "X[10]"
   ]
  },
  {
   "cell_type": "code",
   "execution_count": 8,
   "id": "2a03847e",
   "metadata": {},
   "outputs": [
    {
     "data": {
      "text/plain": [
       "[array([[0., 0., 1., ..., 0., 0., 0.],\n",
       "        [0., 0., 0., ..., 0., 0., 0.],\n",
       "        [0., 0., 0., ..., 0., 0., 1.],\n",
       "        ...,\n",
       "        [0., 0., 0., ..., 0., 1., 0.],\n",
       "        [0., 0., 1., ..., 0., 0., 0.],\n",
       "        [0., 0., 0., ..., 0., 1., 0.]]),\n",
       " array([[0., 0., 0., ..., 0., 0., 0.],\n",
       "        [0., 1., 0., ..., 0., 0., 0.],\n",
       "        [1., 0., 0., ..., 0., 0., 0.],\n",
       "        ...,\n",
       "        [1., 0., 0., ..., 0., 0., 0.],\n",
       "        [0., 0., 0., ..., 0., 0., 0.],\n",
       "        [0., 0., 0., ..., 1., 0., 0.]]),\n",
       " array([[0., 0., 0., ..., 0., 0., 0.],\n",
       "        [1., 0., 0., ..., 0., 0., 0.],\n",
       "        [0., 0., 1., ..., 0., 0., 0.],\n",
       "        ...,\n",
       "        [0., 0., 1., ..., 0., 0., 0.],\n",
       "        [0., 0., 0., ..., 0., 0., 0.],\n",
       "        [0., 0., 0., ..., 0., 0., 0.]]),\n",
       " array([[0., 0., 0., ..., 0., 0., 0.],\n",
       "        [0., 0., 0., ..., 0., 0., 1.],\n",
       "        [0., 0., 1., ..., 0., 0., 0.],\n",
       "        ...,\n",
       "        [1., 0., 0., ..., 0., 0., 0.],\n",
       "        [0., 0., 1., ..., 0., 0., 0.],\n",
       "        [0., 0., 0., ..., 0., 1., 0.]]),\n",
       " array([[0., 1., 0., ..., 0., 0., 0.],\n",
       "        [1., 0., 0., ..., 0., 0., 0.],\n",
       "        [0., 0., 0., ..., 0., 0., 1.],\n",
       "        ...,\n",
       "        [0., 0., 0., ..., 1., 0., 0.],\n",
       "        [0., 0., 0., ..., 0., 0., 0.],\n",
       "        [0., 0., 0., ..., 0., 0., 0.]])]"
      ]
     },
     "execution_count": 8,
     "metadata": {},
     "output_type": "execute_result"
    }
   ],
   "source": [
    "y"
   ]
  },
  {
   "cell_type": "code",
   "execution_count": 9,
   "id": "5fa47c39",
   "metadata": {},
   "outputs": [
    {
     "data": {
      "text/plain": [
       "(2003, 10)"
      ]
     },
     "execution_count": 9,
     "metadata": {},
     "output_type": "execute_result"
    }
   ],
   "source": [
    "y[0].shape\n",
    "# y[4].shape"
   ]
  },
  {
   "cell_type": "code",
   "execution_count": 10,
   "id": "fba5c723",
   "metadata": {},
   "outputs": [
    {
     "data": {
      "text/plain": [
       "<matplotlib.image.AxesImage at 0x1e4b33539e0>"
      ]
     },
     "execution_count": 10,
     "metadata": {},
     "output_type": "execute_result"
    },
    {
     "data": {
      "image/png": "[encoded data removed]",
      "text/plain": [
       "<Figure size 640x480 with 1 Axes>"
      ]
     },
     "metadata": {},
     "output_type": "display_data"
    }
   ],
   "source": [
    "plt.imshow(X[220] , cmap='gray')"
   ]
  },
  {
   "cell_type": "code",
   "execution_count": 11,
   "id": "4faf4933",
   "metadata": {},
   "outputs": [
    {
     "data": {
      "text/plain": [
       "<matplotlib.image.AxesImage at 0x1e4ba437e60>"
      ]
     },
     "execution_count": 11,
     "metadata": {},
     "output_type": "execute_result"
    },
    {
     "data": {
      "image/png": "[encoded data removed]",
      "text/plain": [
       "<Figure size 640x480 with 1 Axes>"
      ]
     },
     "metadata": {},
     "output_type": "display_data"
    }
   ],
   "source": [
    "plt.imshow(X[70] , cmap='gray')"
   ]
  },
  {
   "cell_type": "code",
   "execution_count": 12,
   "id": "1cffbe2c",
   "metadata": {},
   "outputs": [],
   "source": [
    "from sklearn.model_selection import train_test_split\n",
    "\n",
    "\n",
    "X_tra, X_test = train_test_split(X, test_size=0.2, random_state=42)\n",
    "\n",
    "\n",
    "y_tra = []\n",
    "y_test = []\n",
    "\n",
    "for digit_labels in y:\n",
    "    y_tr, y_tes = train_test_split(digit_labels, test_size=0.2, random_state=42)\n",
    "    y_tra.append(y_tr)\n",
    "    y_test.append(y_tes)"
   ]
  },
  {
   "cell_type": "code",
   "execution_count": 13,
   "id": "e8b42c0c",
   "metadata": {},
   "outputs": [],
   "source": [
    "X_train, X_val = train_test_split(X_tra, test_size=0.2, random_state=42)\n",
    "\n",
    "\n",
    "y_train = []\n",
    "y_val = []\n",
    "\n",
    "for digit_labels in y_tra:\n",
    "    y_tr, y_v = train_test_split(digit_labels, test_size=0.2, random_state=42)\n",
    "    y_train.append(y_tr)\n",
    "    y_val.append(y_v)"
   ]
  },
  {
   "cell_type": "code",
   "execution_count": 14,
   "id": "c16460c4",
   "metadata": {},
   "outputs": [
    {
     "data": {
      "text/plain": [
       "(1281, 40, 100, 1)"
      ]
     },
     "execution_count": 14,
     "metadata": {},
     "output_type": "execute_result"
    }
   ],
   "source": [
    "X_train.shape"
   ]
  },
  {
   "cell_type": "code",
   "execution_count": 15,
   "id": "4d78c3d9",
   "metadata": {},
   "outputs": [
    {
     "data": {
      "text/plain": [
       "(401, 40, 100, 1)"
      ]
     },
     "execution_count": 15,
     "metadata": {},
     "output_type": "execute_result"
    }
   ],
   "source": [
    "X_test.shape"
   ]
  },
  {
   "cell_type": "markdown",
   "id": "fbac8c7e",
   "metadata": {},
   "source": [
    "### Create Model"
   ]
  },
  {
   "cell_type": "code",
   "execution_count": 16,
   "id": "c426ad81",
   "metadata": {},
   "outputs": [],
   "source": [
    "input_layer = keras.layers.Input(shape=(img_height, img_width, 1))\n",
    "x = keras.layers.Conv2D(16, 3, activation='relu', padding='same')(input_layer)\n",
    "x = keras.layers.BatchNormalization()(x)\n",
    "\n",
    "x = keras.layers.Conv2D(32, 3, activation='relu', padding='same')(x)\n",
    "x = keras.layers.BatchNormalization()(x)\n",
    "x = keras.layers.MaxPooling2D(2)(x)\n",
    "\n",
    "x = keras.layers.Conv2D(64, 3, activation='relu', padding='same')(x)\n",
    "x = keras.layers.BatchNormalization()(x)\n",
    "x = keras.layers.MaxPooling2D(2)(x)\n",
    "\n",
    "x = keras.layers.Conv2D(128, 3, activation='relu', padding='same')(x)\n",
    "x = keras.layers.BatchNormalization()(x)\n",
    "x = keras.layers.MaxPooling2D(2)(x)\n",
    "\n",
    "x = keras.layers.Flatten()(x)\n",
    "x = keras.layers.Dense(256, activation='relu')(x)\n",
    "x = keras.layers.Dropout(0.5)(x)"
   ]
  },
  {
   "cell_type": "code",
   "execution_count": 17,
   "id": "4acc1f51",
   "metadata": {},
   "outputs": [],
   "source": [
    "output1 = keras.layers.Dense(num_classes, activation='softmax')(x)\n",
    "output2 = keras.layers.Dense(num_classes, activation='softmax')(x)\n",
    "output3 = keras.layers.Dense(num_classes, activation='softmax')(x)\n",
    "output4 = keras.layers.Dense(num_classes, activation='softmax')(x)\n",
    "output5 = keras.layers.Dense(num_classes, activation='softmax')(x)\n",
    "\n",
    "model = keras.models.Model(inputs=input_layer , outputs=[output1, output2, output3, output4, output5])"
   ]
  },
  {
   "cell_type": "code",
   "execution_count": 18,
   "id": "3d401c7e",
   "metadata": {},
   "outputs": [],
   "source": [
    "model.compile(\n",
    "      optimizer=keras.optimizers.Adam(learning_rate=1e-4),\n",
    "    loss=['categorical_crossentropy'] * num_digits,\n",
    "    metrics=['accuracy'] * num_digits\n",
    ")"
   ]
  },
  {
   "cell_type": "code",
   "execution_count": 19,
   "id": "2608d9b0",
   "metadata": {},
   "outputs": [
    {
     "data": {
      "text/html": [
       "<pre style=\"white-space:pre;overflow-x:auto;line-height:normal;font-family:Menlo,'DejaVu Sans Mono',consolas,'Courier New',monospace\"><span style=\"font-weight: bold\">Model: \"functional\"</span>\n",
       "</pre>\n"
      ],
      "text/plain": [
       "\u001b[1mModel: \"functional\"\u001b[0m\n"
      ]
     },
     "metadata": {},
     "output_type": "display_data"
    },
    {
     "data": {
      "text/html": [
       "<pre style=\"white-space:pre;overflow-x:auto;line-height:normal;font-family:Menlo,'DejaVu Sans Mono',consolas,'Courier New',monospace\">┏━━━━━━━━━━━━━━━━━━━━━┳━━━━━━━━━━━━━━━━━━━┳━━━━━━━━━━━━┳━━━━━━━━━━━━━━━━━━━┓\n",
       "┃<span style=\"font-weight: bold\"> Layer (type)        </span>┃<span style=\"font-weight: bold\"> Output Shape      </span>┃<span style=\"font-weight: bold\">    Param # </span>┃<span style=\"font-weight: bold\"> Connected to      </span>┃\n",
       "┡━━━━━━━━━━━━━━━━━━━━━╇━━━━━━━━━━━━━━━━━━━╇━━━━━━━━━━━━╇━━━━━━━━━━━━━━━━━━━┩\n",
       "│ input_layer         │ (<span style=\"color: #00d7ff; text-decoration-color: #00d7ff\">None</span>, <span style=\"color: #00af00; text-decoration-color: #00af00\">40</span>, <span style=\"color: #00af00; text-decoration-color: #00af00\">100</span>,   │          <span style=\"color: #00af00; text-decoration-color: #00af00\">0</span> │ -                 │\n",
       "│ (<span style=\"color: #0087ff; text-decoration-color: #0087ff\">InputLayer</span>)        │ <span style=\"color: #00af00; text-decoration-color: #00af00\">1</span>)                │            │                   │\n",
       "├─────────────────────┼───────────────────┼────────────┼───────────────────┤\n",
       "│ conv2d (<span style=\"color: #0087ff; text-decoration-color: #0087ff\">Conv2D</span>)     │ (<span style=\"color: #00d7ff; text-decoration-color: #00d7ff\">None</span>, <span style=\"color: #00af00; text-decoration-color: #00af00\">40</span>, <span style=\"color: #00af00; text-decoration-color: #00af00\">100</span>,   │        <span style=\"color: #00af00; text-decoration-color: #00af00\">160</span> │ input_layer[<span style=\"color: #00af00; text-decoration-color: #00af00\">0</span>][<span style=\"color: #00af00; text-decoration-color: #00af00\">0</span>] │\n",
       "│                     │ <span style=\"color: #00af00; text-decoration-color: #00af00\">16</span>)               │            │                   │\n",
       "├─────────────────────┼───────────────────┼────────────┼───────────────────┤\n",
       "│ batch_normalization │ (<span style=\"color: #00d7ff; text-decoration-color: #00d7ff\">None</span>, <span style=\"color: #00af00; text-decoration-color: #00af00\">40</span>, <span style=\"color: #00af00; text-decoration-color: #00af00\">100</span>,   │         <span style=\"color: #00af00; text-decoration-color: #00af00\">64</span> │ conv2d[<span style=\"color: #00af00; text-decoration-color: #00af00\">0</span>][<span style=\"color: #00af00; text-decoration-color: #00af00\">0</span>]      │\n",
       "│ (<span style=\"color: #0087ff; text-decoration-color: #0087ff\">BatchNormalizatio…</span> │ <span style=\"color: #00af00; text-decoration-color: #00af00\">16</span>)               │            │                   │\n",
       "├─────────────────────┼───────────────────┼────────────┼───────────────────┤\n",
       "│ conv2d_1 (<span style=\"color: #0087ff; text-decoration-color: #0087ff\">Conv2D</span>)   │ (<span style=\"color: #00d7ff; text-decoration-color: #00d7ff\">None</span>, <span style=\"color: #00af00; text-decoration-color: #00af00\">40</span>, <span style=\"color: #00af00; text-decoration-color: #00af00\">100</span>,   │      <span style=\"color: #00af00; text-decoration-color: #00af00\">4,640</span> │ batch_normalizat… │\n",
       "│                     │ <span style=\"color: #00af00; text-decoration-color: #00af00\">32</span>)               │            │                   │\n",
       "├─────────────────────┼───────────────────┼────────────┼───────────────────┤\n",
       "│ batch_normalizatio… │ (<span style=\"color: #00d7ff; text-decoration-color: #00d7ff\">None</span>, <span style=\"color: #00af00; text-decoration-color: #00af00\">40</span>, <span style=\"color: #00af00; text-decoration-color: #00af00\">100</span>,   │        <span style=\"color: #00af00; text-decoration-color: #00af00\">128</span> │ conv2d_1[<span style=\"color: #00af00; text-decoration-color: #00af00\">0</span>][<span style=\"color: #00af00; text-decoration-color: #00af00\">0</span>]    │\n",
       "│ (<span style=\"color: #0087ff; text-decoration-color: #0087ff\">BatchNormalizatio…</span> │ <span style=\"color: #00af00; text-decoration-color: #00af00\">32</span>)               │            │                   │\n",
       "├─────────────────────┼───────────────────┼────────────┼───────────────────┤\n",
       "│ max_pooling2d       │ (<span style=\"color: #00d7ff; text-decoration-color: #00d7ff\">None</span>, <span style=\"color: #00af00; text-decoration-color: #00af00\">20</span>, <span style=\"color: #00af00; text-decoration-color: #00af00\">50</span>,    │          <span style=\"color: #00af00; text-decoration-color: #00af00\">0</span> │ batch_normalizat… │\n",
       "│ (<span style=\"color: #0087ff; text-decoration-color: #0087ff\">MaxPooling2D</span>)      │ <span style=\"color: #00af00; text-decoration-color: #00af00\">32</span>)               │            │                   │\n",
       "├─────────────────────┼───────────────────┼────────────┼───────────────────┤\n",
       "│ conv2d_2 (<span style=\"color: #0087ff; text-decoration-color: #0087ff\">Conv2D</span>)   │ (<span style=\"color: #00d7ff; text-decoration-color: #00d7ff\">None</span>, <span style=\"color: #00af00; text-decoration-color: #00af00\">20</span>, <span style=\"color: #00af00; text-decoration-color: #00af00\">50</span>,    │     <span style=\"color: #00af00; text-decoration-color: #00af00\">18,496</span> │ max_pooling2d[<span style=\"color: #00af00; text-decoration-color: #00af00\">0</span>]… │\n",
       "│                     │ <span style=\"color: #00af00; text-decoration-color: #00af00\">64</span>)               │            │                   │\n",
       "├─────────────────────┼───────────────────┼────────────┼───────────────────┤\n",
       "│ batch_normalizatio… │ (<span style=\"color: #00d7ff; text-decoration-color: #00d7ff\">None</span>, <span style=\"color: #00af00; text-decoration-color: #00af00\">20</span>, <span style=\"color: #00af00; text-decoration-color: #00af00\">50</span>,    │        <span style=\"color: #00af00; text-decoration-color: #00af00\">256</span> │ conv2d_2[<span style=\"color: #00af00; text-decoration-color: #00af00\">0</span>][<span style=\"color: #00af00; text-decoration-color: #00af00\">0</span>]    │\n",
       "│ (<span style=\"color: #0087ff; text-decoration-color: #0087ff\">BatchNormalizatio…</span> │ <span style=\"color: #00af00; text-decoration-color: #00af00\">64</span>)               │            │                   │\n",
       "├─────────────────────┼───────────────────┼────────────┼───────────────────┤\n",
       "│ max_pooling2d_1     │ (<span style=\"color: #00d7ff; text-decoration-color: #00d7ff\">None</span>, <span style=\"color: #00af00; text-decoration-color: #00af00\">10</span>, <span style=\"color: #00af00; text-decoration-color: #00af00\">25</span>,    │          <span style=\"color: #00af00; text-decoration-color: #00af00\">0</span> │ batch_normalizat… │\n",
       "│ (<span style=\"color: #0087ff; text-decoration-color: #0087ff\">MaxPooling2D</span>)      │ <span style=\"color: #00af00; text-decoration-color: #00af00\">64</span>)               │            │                   │\n",
       "├─────────────────────┼───────────────────┼────────────┼───────────────────┤\n",
       "│ conv2d_3 (<span style=\"color: #0087ff; text-decoration-color: #0087ff\">Conv2D</span>)   │ (<span style=\"color: #00d7ff; text-decoration-color: #00d7ff\">None</span>, <span style=\"color: #00af00; text-decoration-color: #00af00\">10</span>, <span style=\"color: #00af00; text-decoration-color: #00af00\">25</span>,    │     <span style=\"color: #00af00; text-decoration-color: #00af00\">73,856</span> │ max_pooling2d_1[<span style=\"color: #00af00; text-decoration-color: #00af00\">…</span> │\n",
       "│                     │ <span style=\"color: #00af00; text-decoration-color: #00af00\">128</span>)              │            │                   │\n",
       "├─────────────────────┼───────────────────┼────────────┼───────────────────┤\n",
       "│ batch_normalizatio… │ (<span style=\"color: #00d7ff; text-decoration-color: #00d7ff\">None</span>, <span style=\"color: #00af00; text-decoration-color: #00af00\">10</span>, <span style=\"color: #00af00; text-decoration-color: #00af00\">25</span>,    │        <span style=\"color: #00af00; text-decoration-color: #00af00\">512</span> │ conv2d_3[<span style=\"color: #00af00; text-decoration-color: #00af00\">0</span>][<span style=\"color: #00af00; text-decoration-color: #00af00\">0</span>]    │\n",
       "│ (<span style=\"color: #0087ff; text-decoration-color: #0087ff\">BatchNormalizatio…</span> │ <span style=\"color: #00af00; text-decoration-color: #00af00\">128</span>)              │            │                   │\n",
       "├─────────────────────┼───────────────────┼────────────┼───────────────────┤\n",
       "│ max_pooling2d_2     │ (<span style=\"color: #00d7ff; text-decoration-color: #00d7ff\">None</span>, <span style=\"color: #00af00; text-decoration-color: #00af00\">5</span>, <span style=\"color: #00af00; text-decoration-color: #00af00\">12</span>,     │          <span style=\"color: #00af00; text-decoration-color: #00af00\">0</span> │ batch_normalizat… │\n",
       "│ (<span style=\"color: #0087ff; text-decoration-color: #0087ff\">MaxPooling2D</span>)      │ <span style=\"color: #00af00; text-decoration-color: #00af00\">128</span>)              │            │                   │\n",
       "├─────────────────────┼───────────────────┼────────────┼───────────────────┤\n",
       "│ flatten (<span style=\"color: #0087ff; text-decoration-color: #0087ff\">Flatten</span>)   │ (<span style=\"color: #00d7ff; text-decoration-color: #00d7ff\">None</span>, <span style=\"color: #00af00; text-decoration-color: #00af00\">7680</span>)      │          <span style=\"color: #00af00; text-decoration-color: #00af00\">0</span> │ max_pooling2d_2[<span style=\"color: #00af00; text-decoration-color: #00af00\">…</span> │\n",
       "├─────────────────────┼───────────────────┼────────────┼───────────────────┤\n",
       "│ dense (<span style=\"color: #0087ff; text-decoration-color: #0087ff\">Dense</span>)       │ (<span style=\"color: #00d7ff; text-decoration-color: #00d7ff\">None</span>, <span style=\"color: #00af00; text-decoration-color: #00af00\">256</span>)       │  <span style=\"color: #00af00; text-decoration-color: #00af00\">1,966,336</span> │ flatten[<span style=\"color: #00af00; text-decoration-color: #00af00\">0</span>][<span style=\"color: #00af00; text-decoration-color: #00af00\">0</span>]     │\n",
       "├─────────────────────┼───────────────────┼────────────┼───────────────────┤\n",
       "│ dropout (<span style=\"color: #0087ff; text-decoration-color: #0087ff\">Dropout</span>)   │ (<span style=\"color: #00d7ff; text-decoration-color: #00d7ff\">None</span>, <span style=\"color: #00af00; text-decoration-color: #00af00\">256</span>)       │          <span style=\"color: #00af00; text-decoration-color: #00af00\">0</span> │ dense[<span style=\"color: #00af00; text-decoration-color: #00af00\">0</span>][<span style=\"color: #00af00; text-decoration-color: #00af00\">0</span>]       │\n",
       "├─────────────────────┼───────────────────┼────────────┼───────────────────┤\n",
       "│ dense_1 (<span style=\"color: #0087ff; text-decoration-color: #0087ff\">Dense</span>)     │ (<span style=\"color: #00d7ff; text-decoration-color: #00d7ff\">None</span>, <span style=\"color: #00af00; text-decoration-color: #00af00\">10</span>)        │      <span style=\"color: #00af00; text-decoration-color: #00af00\">2,570</span> │ dropout[<span style=\"color: #00af00; text-decoration-color: #00af00\">0</span>][<span style=\"color: #00af00; text-decoration-color: #00af00\">0</span>]     │\n",
       "├─────────────────────┼───────────────────┼────────────┼───────────────────┤\n",
       "│ dense_2 (<span style=\"color: #0087ff; text-decoration-color: #0087ff\">Dense</span>)     │ (<span style=\"color: #00d7ff; text-decoration-color: #00d7ff\">None</span>, <span style=\"color: #00af00; text-decoration-color: #00af00\">10</span>)        │      <span style=\"color: #00af00; text-decoration-color: #00af00\">2,570</span> │ dropout[<span style=\"color: #00af00; text-decoration-color: #00af00\">0</span>][<span style=\"color: #00af00; text-decoration-color: #00af00\">0</span>]     │\n",
       "├─────────────────────┼───────────────────┼────────────┼───────────────────┤\n",
       "│ dense_3 (<span style=\"color: #0087ff; text-decoration-color: #0087ff\">Dense</span>)     │ (<span style=\"color: #00d7ff; text-decoration-color: #00d7ff\">None</span>, <span style=\"color: #00af00; text-decoration-color: #00af00\">10</span>)        │      <span style=\"color: #00af00; text-decoration-color: #00af00\">2,570</span> │ dropout[<span style=\"color: #00af00; text-decoration-color: #00af00\">0</span>][<span style=\"color: #00af00; text-decoration-color: #00af00\">0</span>]     │\n",
       "├─────────────────────┼───────────────────┼────────────┼───────────────────┤\n",
       "│ dense_4 (<span style=\"color: #0087ff; text-decoration-color: #0087ff\">Dense</span>)     │ (<span style=\"color: #00d7ff; text-decoration-color: #00d7ff\">None</span>, <span style=\"color: #00af00; text-decoration-color: #00af00\">10</span>)        │      <span style=\"color: #00af00; text-decoration-color: #00af00\">2,570</span> │ dropout[<span style=\"color: #00af00; text-decoration-color: #00af00\">0</span>][<span style=\"color: #00af00; text-decoration-color: #00af00\">0</span>]     │\n",
       "├─────────────────────┼───────────────────┼────────────┼───────────────────┤\n",
       "│ dense_5 (<span style=\"color: #0087ff; text-decoration-color: #0087ff\">Dense</span>)     │ (<span style=\"color: #00d7ff; text-decoration-color: #00d7ff\">None</span>, <span style=\"color: #00af00; text-decoration-color: #00af00\">10</span>)        │      <span style=\"color: #00af00; text-decoration-color: #00af00\">2,570</span> │ dropout[<span style=\"color: #00af00; text-decoration-color: #00af00\">0</span>][<span style=\"color: #00af00; text-decoration-color: #00af00\">0</span>]     │\n",
       "└─────────────────────┴───────────────────┴────────────┴───────────────────┘\n",
       "</pre>\n"
      ],
      "text/plain": [
       "┏━━━━━━━━━━━━━━━━━━━━━┳━━━━━━━━━━━━━━━━━━━┳━━━━━━━━━━━━┳━━━━━━━━━━━━━━━━━━━┓\n",
       "┃\u001b[1m \u001b[0m\u001b[1mLayer (type)       \u001b[0m\u001b[1m \u001b[0m┃\u001b[1m \u001b[0m\u001b[1mOutput Shape     \u001b[0m\u001b[1m \u001b[0m┃\u001b[1m \u001b[0m\u001b[1m   Param #\u001b[0m\u001b[1m \u001b[0m┃\u001b[1m \u001b[0m\u001b[1mConnected to     \u001b[0m\u001b[1m \u001b[0m┃\n",
       "┡━━━━━━━━━━━━━━━━━━━━━╇━━━━━━━━━━━━━━━━━━━╇━━━━━━━━━━━━╇━━━━━━━━━━━━━━━━━━━┩\n",
       "│ input_layer         │ (\u001b[38;5;45mNone\u001b[0m, \u001b[38;5;34m40\u001b[0m, \u001b[38;5;34m100\u001b[0m,   │          \u001b[38;5;34m0\u001b[0m │ -                 │\n",
       "│ (\u001b[38;5;33mInputLayer\u001b[0m)        │ \u001b[38;5;34m1\u001b[0m)                │            │                   │\n",
       "├─────────────────────┼───────────────────┼────────────┼───────────────────┤\n",
       "│ conv2d (\u001b[38;5;33mConv2D\u001b[0m)     │ (\u001b[38;5;45mNone\u001b[0m, \u001b[38;5;34m40\u001b[0m, \u001b[38;5;34m100\u001b[0m,   │        \u001b[38;5;34m160\u001b[0m │ input_layer[\u001b[38;5;34m0\u001b[0m][\u001b[38;5;34m0\u001b[0m] │\n",
       "│                     │ \u001b[38;5;34m16\u001b[0m)               │            │                   │\n",
       "├─────────────────────┼───────────────────┼────────────┼───────────────────┤\n",
       "│ batch_normalization │ (\u001b[38;5;45mNone\u001b[0m, \u001b[38;5;34m40\u001b[0m, \u001b[38;5;34m100\u001b[0m,   │         \u001b[38;5;34m64\u001b[0m │ conv2d[\u001b[38;5;34m0\u001b[0m][\u001b[38;5;34m0\u001b[0m]      │\n",
       "│ (\u001b[38;5;33mBatchNormalizatio…\u001b[0m │ \u001b[38;5;34m16\u001b[0m)               │            │                   │\n",
       "├─────────────────────┼───────────────────┼────────────┼───────────────────┤\n",
       "│ conv2d_1 (\u001b[38;5;33mConv2D\u001b[0m)   │ (\u001b[38;5;45mNone\u001b[0m, \u001b[38;5;34m40\u001b[0m, \u001b[38;5;34m100\u001b[0m,   │      \u001b[38;5;34m4,640\u001b[0m │ batch_normalizat… │\n",
       "│                     │ \u001b[38;5;34m32\u001b[0m)               │            │                   │\n",
       "├─────────────────────┼───────────────────┼────────────┼───────────────────┤\n",
       "│ batch_normalizatio… │ (\u001b[38;5;45mNone\u001b[0m, \u001b[38;5;34m40\u001b[0m, \u001b[38;5;34m100\u001b[0m,   │        \u001b[38;5;34m128\u001b[0m │ conv2d_1[\u001b[38;5;34m0\u001b[0m][\u001b[38;5;34m0\u001b[0m]    │\n",
       "│ (\u001b[38;5;33mBatchNormalizatio…\u001b[0m │ \u001b[38;5;34m32\u001b[0m)               │            │                   │\n",
       "├─────────────────────┼───────────────────┼────────────┼───────────────────┤\n",
       "│ max_pooling2d       │ (\u001b[38;5;45mNone\u001b[0m, \u001b[38;5;34m20\u001b[0m, \u001b[38;5;34m50\u001b[0m,    │          \u001b[38;5;34m0\u001b[0m │ batch_normalizat… │\n",
       "│ (\u001b[38;5;33mMaxPooling2D\u001b[0m)      │ \u001b[38;5;34m32\u001b[0m)               │            │                   │\n",
       "├─────────────────────┼───────────────────┼────────────┼───────────────────┤\n",
       "│ conv2d_2 (\u001b[38;5;33mConv2D\u001b[0m)   │ (\u001b[38;5;45mNone\u001b[0m, \u001b[38;5;34m20\u001b[0m, \u001b[38;5;34m50\u001b[0m,    │     \u001b[38;5;34m18,496\u001b[0m │ max_pooling2d[\u001b[38;5;34m0\u001b[0m]… │\n",
       "│                     │ \u001b[38;5;34m64\u001b[0m)               │            │                   │\n",
       "├─────────────────────┼───────────────────┼────────────┼───────────────────┤\n",
       "│ batch_normalizatio… │ (\u001b[38;5;45mNone\u001b[0m, \u001b[38;5;34m20\u001b[0m, \u001b[38;5;34m50\u001b[0m,    │        \u001b[38;5;34m256\u001b[0m │ conv2d_2[\u001b[38;5;34m0\u001b[0m][\u001b[38;5;34m0\u001b[0m]    │\n",
       "│ (\u001b[38;5;33mBatchNormalizatio…\u001b[0m │ \u001b[38;5;34m64\u001b[0m)               │            │                   │\n",
       "├─────────────────────┼───────────────────┼────────────┼───────────────────┤\n",
       "│ max_pooling2d_1     │ (\u001b[38;5;45mNone\u001b[0m, \u001b[38;5;34m10\u001b[0m, \u001b[38;5;34m25\u001b[0m,    │          \u001b[38;5;34m0\u001b[0m │ batch_normalizat… │\n",
       "│ (\u001b[38;5;33mMaxPooling2D\u001b[0m)      │ \u001b[38;5;34m64\u001b[0m)               │            │                   │\n",
       "├─────────────────────┼───────────────────┼────────────┼───────────────────┤\n",
       "│ conv2d_3 (\u001b[38;5;33mConv2D\u001b[0m)   │ (\u001b[38;5;45mNone\u001b[0m, \u001b[38;5;34m10\u001b[0m, \u001b[38;5;34m25\u001b[0m,    │     \u001b[38;5;34m73,856\u001b[0m │ max_pooling2d_1[\u001b[38;5;34m…\u001b[0m │\n",
       "│                     │ \u001b[38;5;34m128\u001b[0m)              │            │                   │\n",
       "├─────────────────────┼───────────────────┼────────────┼───────────────────┤\n",
       "│ batch_normalizatio… │ (\u001b[38;5;45mNone\u001b[0m, \u001b[38;5;34m10\u001b[0m, \u001b[38;5;34m25\u001b[0m,    │        \u001b[38;5;34m512\u001b[0m │ conv2d_3[\u001b[38;5;34m0\u001b[0m][\u001b[38;5;34m0\u001b[0m]    │\n",
       "│ (\u001b[38;5;33mBatchNormalizatio…\u001b[0m │ \u001b[38;5;34m128\u001b[0m)              │            │                   │\n",
       "├─────────────────────┼───────────────────┼────────────┼───────────────────┤\n",
       "│ max_pooling2d_2     │ (\u001b[38;5;45mNone\u001b[0m, \u001b[38;5;34m5\u001b[0m, \u001b[38;5;34m12\u001b[0m,     │          \u001b[38;5;34m0\u001b[0m │ batch_normalizat… │\n",
       "│ (\u001b[38;5;33mMaxPooling2D\u001b[0m)      │ \u001b[38;5;34m128\u001b[0m)              │            │                   │\n",
       "├─────────────────────┼───────────────────┼────────────┼───────────────────┤\n",
       "│ flatten (\u001b[38;5;33mFlatten\u001b[0m)   │ (\u001b[38;5;45mNone\u001b[0m, \u001b[38;5;34m7680\u001b[0m)      │          \u001b[38;5;34m0\u001b[0m │ max_pooling2d_2[\u001b[38;5;34m…\u001b[0m │\n",
       "├─────────────────────┼───────────────────┼────────────┼───────────────────┤\n",
       "│ dense (\u001b[38;5;33mDense\u001b[0m)       │ (\u001b[38;5;45mNone\u001b[0m, \u001b[38;5;34m256\u001b[0m)       │  \u001b[38;5;34m1,966,336\u001b[0m │ flatten[\u001b[38;5;34m0\u001b[0m][\u001b[38;5;34m0\u001b[0m]     │\n",
       "├─────────────────────┼───────────────────┼────────────┼───────────────────┤\n",
       "│ dropout (\u001b[38;5;33mDropout\u001b[0m)   │ (\u001b[38;5;45mNone\u001b[0m, \u001b[38;5;34m256\u001b[0m)       │          \u001b[38;5;34m0\u001b[0m │ dense[\u001b[38;5;34m0\u001b[0m][\u001b[38;5;34m0\u001b[0m]       │\n",
       "├─────────────────────┼───────────────────┼────────────┼───────────────────┤\n",
       "│ dense_1 (\u001b[38;5;33mDense\u001b[0m)     │ (\u001b[38;5;45mNone\u001b[0m, \u001b[38;5;34m10\u001b[0m)        │      \u001b[38;5;34m2,570\u001b[0m │ dropout[\u001b[38;5;34m0\u001b[0m][\u001b[38;5;34m0\u001b[0m]     │\n",
       "├─────────────────────┼───────────────────┼────────────┼───────────────────┤\n",
       "│ dense_2 (\u001b[38;5;33mDense\u001b[0m)     │ (\u001b[38;5;45mNone\u001b[0m, \u001b[38;5;34m10\u001b[0m)        │      \u001b[38;5;34m2,570\u001b[0m │ dropout[\u001b[38;5;34m0\u001b[0m][\u001b[38;5;34m0\u001b[0m]     │\n",
       "├─────────────────────┼───────────────────┼────────────┼───────────────────┤\n",
       "│ dense_3 (\u001b[38;5;33mDense\u001b[0m)     │ (\u001b[38;5;45mNone\u001b[0m, \u001b[38;5;34m10\u001b[0m)        │      \u001b[38;5;34m2,570\u001b[0m │ dropout[\u001b[38;5;34m0\u001b[0m][\u001b[38;5;34m0\u001b[0m]     │\n",
       "├─────────────────────┼───────────────────┼────────────┼───────────────────┤\n",
       "│ dense_4 (\u001b[38;5;33mDense\u001b[0m)     │ (\u001b[38;5;45mNone\u001b[0m, \u001b[38;5;34m10\u001b[0m)        │      \u001b[38;5;34m2,570\u001b[0m │ dropout[\u001b[38;5;34m0\u001b[0m][\u001b[38;5;34m0\u001b[0m]     │\n",
       "├─────────────────────┼───────────────────┼────────────┼───────────────────┤\n",
       "│ dense_5 (\u001b[38;5;33mDense\u001b[0m)     │ (\u001b[38;5;45mNone\u001b[0m, \u001b[38;5;34m10\u001b[0m)        │      \u001b[38;5;34m2,570\u001b[0m │ dropout[\u001b[38;5;34m0\u001b[0m][\u001b[38;5;34m0\u001b[0m]     │\n",
       "└─────────────────────┴───────────────────┴────────────┴───────────────────┘\n"
      ]
     },
     "metadata": {},
     "output_type": "display_data"
    },
    {
     "data": {
      "text/html": [
       "<pre style=\"white-space:pre;overflow-x:auto;line-height:normal;font-family:Menlo,'DejaVu Sans Mono',consolas,'Courier New',monospace\"><span style=\"font-weight: bold\"> Total params: </span><span style=\"color: #00af00; text-decoration-color: #00af00\">2,077,298</span> (7.92 MB)\n",
       "</pre>\n"
      ],
      "text/plain": [
       "\u001b[1m Total params: \u001b[0m\u001b[38;5;34m2,077,298\u001b[0m (7.92 MB)\n"
      ]
     },
     "metadata": {},
     "output_type": "display_data"
    },
    {
     "data": {
      "text/html": [
       "<pre style=\"white-space:pre;overflow-x:auto;line-height:normal;font-family:Menlo,'DejaVu Sans Mono',consolas,'Courier New',monospace\"><span style=\"font-weight: bold\"> Trainable params: </span><span style=\"color: #00af00; text-decoration-color: #00af00\">2,076,818</span> (7.92 MB)\n",
       "</pre>\n"
      ],
      "text/plain": [
       "\u001b[1m Trainable params: \u001b[0m\u001b[38;5;34m2,076,818\u001b[0m (7.92 MB)\n"
      ]
     },
     "metadata": {},
     "output_type": "display_data"
    },
    {
     "data": {
      "text/html": [
       "<pre style=\"white-space:pre;overflow-x:auto;line-height:normal;font-family:Menlo,'DejaVu Sans Mono',consolas,'Courier New',monospace\"><span style=\"font-weight: bold\"> Non-trainable params: </span><span style=\"color: #00af00; text-decoration-color: #00af00\">480</span> (1.88 KB)\n",
       "</pre>\n"
      ],
      "text/plain": [
       "\u001b[1m Non-trainable params: \u001b[0m\u001b[38;5;34m480\u001b[0m (1.88 KB)\n"
      ]
     },
     "metadata": {},
     "output_type": "display_data"
    }
   ],
   "source": [
    "model.summary()"
   ]
  },
  {
   "cell_type": "code",
   "execution_count": 20,
   "id": "90bb0f4c",
   "metadata": {},
   "outputs": [],
   "source": [
    "# Callbacks:\n",
    "early_stop = keras.callbacks.EarlyStopping(\n",
    "    monitor='val_loss', patience=10, restore_best_weights=True\n",
    ")\n",
    "\n",
    "model_ckpt = keras.callbacks.ModelCheckpoint(\n",
    "    filepath='best_model.keras',\n",
    "    monitor='val_accuracy',\n",
    "    save_best_only=True\n",
    ")"
   ]
  },
  {
   "cell_type": "code",
   "execution_count": 21,
   "id": "5d79b3ab",
   "metadata": {},
   "outputs": [
    {
     "name": "stdout",
     "output_type": "stream",
     "text": [
      "Epoch 1/200\n",
      "\u001b[1m129/129\u001b[0m \u001b[32m━━━━━━━━━━━━━━━━━━━━\u001b[0m\u001b[37m\u001b[0m \u001b[1m0s\u001b[0m 73ms/step - dense_1_accuracy: 0.1404 - dense_1_loss: 2.7883 - dense_2_accuracy: 0.1264 - dense_2_loss: 2.8174 - dense_3_accuracy: 0.1237 - dense_3_loss: 2.9723 - dense_4_accuracy: 0.1239 - dense_4_loss: 2.8146 - dense_5_accuracy: 0.1329 - dense_5_loss: 2.8572 - loss: 14.2499"
     ]
    },
    {
     "name": "stderr",
     "output_type": "stream",
     "text": [
      "d:\\Programming\\Deep_Learning\\tf-env\\Lib\\site-packages\\keras\\src\\callbacks\\model_checkpoint.py:302: UserWarning: Can save best model only with val_accuracy available.\n",
      "  if self._should_save_model(epoch, batch, logs, filepath):\n"
     ]
    },
    {
     "name": "stdout",
     "output_type": "stream",
     "text": [
      "\u001b[1m129/129\u001b[0m \u001b[32m━━━━━━━━━━━━━━━━━━━━\u001b[0m\u001b[37m\u001b[0m \u001b[1m25s\u001b[0m 87ms/step - dense_1_accuracy: 0.1406 - dense_1_loss: 2.7854 - dense_2_accuracy: 0.1264 - dense_2_loss: 2.8145 - dense_3_accuracy: 0.1238 - dense_3_loss: 2.9686 - dense_4_accuracy: 0.1239 - dense_4_loss: 2.8117 - dense_5_accuracy: 0.1331 - dense_5_loss: 2.8538 - loss: 14.2342 - val_dense_1_accuracy: 0.1184 - val_dense_1_loss: 3.0724 - val_dense_2_accuracy: 0.1215 - val_dense_2_loss: 2.9358 - val_dense_3_accuracy: 0.0997 - val_dense_3_loss: 3.8988 - val_dense_4_accuracy: 0.1277 - val_dense_4_loss: 2.9242 - val_dense_5_accuracy: 0.0779 - val_dense_5_loss: 3.4988 - val_loss: 16.3341\n",
      "Epoch 2/200\n",
      "\u001b[1m129/129\u001b[0m \u001b[32m━━━━━━━━━━━━━━━━━━━━\u001b[0m\u001b[37m\u001b[0m \u001b[1m10s\u001b[0m 75ms/step - dense_1_accuracy: 0.2645 - dense_1_loss: 2.0593 - dense_2_accuracy: 0.2179 - dense_2_loss: 2.1563 - dense_3_accuracy: 0.1834 - dense_3_loss: 2.2574 - dense_4_accuracy: 0.1516 - dense_4_loss: 2.2622 - dense_5_accuracy: 0.2333 - dense_5_loss: 2.1492 - loss: 10.8846 - val_dense_1_accuracy: 0.1495 - val_dense_1_loss: 3.0331 - val_dense_2_accuracy: 0.1340 - val_dense_2_loss: 2.5468 - val_dense_3_accuracy: 0.0997 - val_dense_3_loss: 3.9343 - val_dense_4_accuracy: 0.1776 - val_dense_4_loss: 2.8722 - val_dense_5_accuracy: 0.0779 - val_dense_5_loss: 3.3596 - val_loss: 15.7432\n",
      "Epoch 3/200\n",
      "\u001b[1m129/129\u001b[0m \u001b[32m━━━━━━━━━━━━━━━━━━━━\u001b[0m\u001b[37m\u001b[0m \u001b[1m11s\u001b[0m 86ms/step - dense_1_accuracy: 0.4162 - dense_1_loss: 1.6493 - dense_2_accuracy: 0.3239 - dense_2_loss: 1.9185 - dense_3_accuracy: 0.2756 - dense_3_loss: 2.0284 - dense_4_accuracy: 0.2895 - dense_4_loss: 1.9862 - dense_5_accuracy: 0.3217 - dense_5_loss: 1.9161 - loss: 9.4987 - val_dense_1_accuracy: 0.4704 - val_dense_1_loss: 1.8202 - val_dense_2_accuracy: 0.2804 - val_dense_2_loss: 1.9808 - val_dense_3_accuracy: 0.2368 - val_dense_3_loss: 2.2017 - val_dense_4_accuracy: 0.3022 - val_dense_4_loss: 2.0847 - val_dense_5_accuracy: 0.2804 - val_dense_5_loss: 2.0253 - val_loss: 10.1287\n",
      "Epoch 4/200\n",
      "\u001b[1m129/129\u001b[0m \u001b[32m━━━━━━━━━━━━━━━━━━━━\u001b[0m\u001b[37m\u001b[0m \u001b[1m12s\u001b[0m 91ms/step - dense_1_accuracy: 0.5611 - dense_1_loss: 1.2679 - dense_2_accuracy: 0.4405 - dense_2_loss: 1.6021 - dense_3_accuracy: 0.4075 - dense_3_loss: 1.6763 - dense_4_accuracy: 0.4423 - dense_4_loss: 1.6129 - dense_5_accuracy: 0.4342 - dense_5_loss: 1.5978 - loss: 7.7574 - val_dense_1_accuracy: 0.8193 - val_dense_1_loss: 0.9920 - val_dense_2_accuracy: 0.6511 - val_dense_2_loss: 1.2302 - val_dense_3_accuracy: 0.6760 - val_dense_3_loss: 1.2999 - val_dense_4_accuracy: 0.6947 - val_dense_4_loss: 1.2771 - val_dense_5_accuracy: 0.7103 - val_dense_5_loss: 1.2328 - val_loss: 6.0393\n",
      "Epoch 5/200\n",
      "\u001b[1m129/129\u001b[0m \u001b[32m━━━━━━━━━━━━━━━━━━━━\u001b[0m\u001b[37m\u001b[0m \u001b[1m13s\u001b[0m 100ms/step - dense_1_accuracy: 0.6414 - dense_1_loss: 1.0643 - dense_2_accuracy: 0.5894 - dense_2_loss: 1.2211 - dense_3_accuracy: 0.5246 - dense_3_loss: 1.4072 - dense_4_accuracy: 0.5020 - dense_4_loss: 1.3826 - dense_5_accuracy: 0.5528 - dense_5_loss: 1.2636 - loss: 6.3387 - val_dense_1_accuracy: 0.9159 - val_dense_1_loss: 0.5410 - val_dense_2_accuracy: 0.8785 - val_dense_2_loss: 0.7082 - val_dense_3_accuracy: 0.9003 - val_dense_3_loss: 0.7530 - val_dense_4_accuracy: 0.8536 - val_dense_4_loss: 0.7971 - val_dense_5_accuracy: 0.8692 - val_dense_5_loss: 0.7222 - val_loss: 3.5016\n",
      "Epoch 6/200\n",
      "\u001b[1m129/129\u001b[0m \u001b[32m━━━━━━━━━━━━━━━━━━━━\u001b[0m\u001b[37m\u001b[0m \u001b[1m12s\u001b[0m 93ms/step - dense_1_accuracy: 0.6914 - dense_1_loss: 0.8504 - dense_2_accuracy: 0.6445 - dense_2_loss: 1.0711 - dense_3_accuracy: 0.6080 - dense_3_loss: 1.1085 - dense_4_accuracy: 0.5882 - dense_4_loss: 1.1507 - dense_5_accuracy: 0.6377 - dense_5_loss: 1.0303 - loss: 5.2107 - val_dense_1_accuracy: 0.9502 - val_dense_1_loss: 0.3406 - val_dense_2_accuracy: 0.9221 - val_dense_2_loss: 0.4647 - val_dense_3_accuracy: 0.9283 - val_dense_3_loss: 0.4674 - val_dense_4_accuracy: 0.8847 - val_dense_4_loss: 0.5670 - val_dense_5_accuracy: 0.9283 - val_dense_5_loss: 0.4619 - val_loss: 2.2998\n",
      "Epoch 7/200\n",
      "\u001b[1m129/129\u001b[0m \u001b[32m━━━━━━━━━━━━━━━━━━━━\u001b[0m\u001b[37m\u001b[0m \u001b[1m13s\u001b[0m 98ms/step - dense_1_accuracy: 0.7196 - dense_1_loss: 0.7837 - dense_2_accuracy: 0.6702 - dense_2_loss: 0.9863 - dense_3_accuracy: 0.6693 - dense_3_loss: 0.9490 - dense_4_accuracy: 0.6601 - dense_4_loss: 1.0090 - dense_5_accuracy: 0.6978 - dense_5_loss: 0.8749 - loss: 4.6031 - val_dense_1_accuracy: 0.9782 - val_dense_1_loss: 0.1784 - val_dense_2_accuracy: 0.9595 - val_dense_2_loss: 0.3218 - val_dense_3_accuracy: 0.9564 - val_dense_3_loss: 0.2996 - val_dense_4_accuracy: 0.9283 - val_dense_4_loss: 0.3537 - val_dense_5_accuracy: 0.9533 - val_dense_5_loss: 0.2982 - val_loss: 1.4177\n",
      "Epoch 8/200\n",
      "\u001b[1m129/129\u001b[0m \u001b[32m━━━━━━━━━━━━━━━━━━━━\u001b[0m\u001b[37m\u001b[0m \u001b[1m13s\u001b[0m 99ms/step - dense_1_accuracy: 0.7861 - dense_1_loss: 0.6377 - dense_2_accuracy: 0.7308 - dense_2_loss: 0.8512 - dense_3_accuracy: 0.7218 - dense_3_loss: 0.7958 - dense_4_accuracy: 0.7178 - dense_4_loss: 0.8256 - dense_5_accuracy: 0.7342 - dense_5_loss: 0.7814 - loss: 3.8919 - val_dense_1_accuracy: 0.9907 - val_dense_1_loss: 0.1401 - val_dense_2_accuracy: 0.9782 - val_dense_2_loss: 0.2385 - val_dense_3_accuracy: 0.9938 - val_dense_3_loss: 0.1989 - val_dense_4_accuracy: 0.9782 - val_dense_4_loss: 0.2210 - val_dense_5_accuracy: 0.9782 - val_dense_5_loss: 0.1826 - val_loss: 0.9503\n",
      "Epoch 9/200\n",
      "\u001b[1m129/129\u001b[0m \u001b[32m━━━━━━━━━━━━━━━━━━━━\u001b[0m\u001b[37m\u001b[0m \u001b[1m13s\u001b[0m 100ms/step - dense_1_accuracy: 0.8025 - dense_1_loss: 0.6154 - dense_2_accuracy: 0.7811 - dense_2_loss: 0.6388 - dense_3_accuracy: 0.7585 - dense_3_loss: 0.7053 - dense_4_accuracy: 0.7682 - dense_4_loss: 0.6665 - dense_5_accuracy: 0.7627 - dense_5_loss: 0.6436 - loss: 3.2695 - val_dense_1_accuracy: 0.9907 - val_dense_1_loss: 0.0853 - val_dense_2_accuracy: 0.9844 - val_dense_2_loss: 0.1691 - val_dense_3_accuracy: 0.9813 - val_dense_3_loss: 0.1432 - val_dense_4_accuracy: 0.9907 - val_dense_4_loss: 0.1470 - val_dense_5_accuracy: 0.9782 - val_dense_5_loss: 0.1430 - val_loss: 0.6522\n",
      "Epoch 10/200\n",
      "\u001b[1m129/129\u001b[0m \u001b[32m━━━━━━━━━━━━━━━━━━━━\u001b[0m\u001b[37m\u001b[0m \u001b[1m13s\u001b[0m 100ms/step - dense_1_accuracy: 0.8206 - dense_1_loss: 0.5277 - dense_2_accuracy: 0.8058 - dense_2_loss: 0.5746 - dense_3_accuracy: 0.7952 - dense_3_loss: 0.5883 - dense_4_accuracy: 0.7915 - dense_4_loss: 0.5795 - dense_5_accuracy: 0.8002 - dense_5_loss: 0.5710 - loss: 2.8415 - val_dense_1_accuracy: 0.9875 - val_dense_1_loss: 0.0731 - val_dense_2_accuracy: 0.9907 - val_dense_2_loss: 0.1149 - val_dense_3_accuracy: 0.9875 - val_dense_3_loss: 0.1102 - val_dense_4_accuracy: 0.9907 - val_dense_4_loss: 0.1121 - val_dense_5_accuracy: 0.9907 - val_dense_5_loss: 0.0900 - val_loss: 0.4895\n",
      "Epoch 11/200\n",
      "\u001b[1m129/129\u001b[0m \u001b[32m━━━━━━━━━━━━━━━━━━━━\u001b[0m\u001b[37m\u001b[0m \u001b[1m12s\u001b[0m 95ms/step - dense_1_accuracy: 0.8435 - dense_1_loss: 0.4416 - dense_2_accuracy: 0.8094 - dense_2_loss: 0.5353 - dense_3_accuracy: 0.8030 - dense_3_loss: 0.5612 - dense_4_accuracy: 0.8378 - dense_4_loss: 0.5077 - dense_5_accuracy: 0.8309 - dense_5_loss: 0.5051 - loss: 2.5508 - val_dense_1_accuracy: 0.9938 - val_dense_1_loss: 0.0418 - val_dense_2_accuracy: 0.9969 - val_dense_2_loss: 0.0764 - val_dense_3_accuracy: 0.9938 - val_dense_3_loss: 0.0884 - val_dense_4_accuracy: 0.9844 - val_dense_4_loss: 0.0869 - val_dense_5_accuracy: 0.9907 - val_dense_5_loss: 0.0660 - val_loss: 0.3448\n",
      "Epoch 12/200\n",
      "\u001b[1m129/129\u001b[0m \u001b[32m━━━━━━━━━━━━━━━━━━━━\u001b[0m\u001b[37m\u001b[0m \u001b[1m14s\u001b[0m 109ms/step - dense_1_accuracy: 0.8445 - dense_1_loss: 0.4540 - dense_2_accuracy: 0.8393 - dense_2_loss: 0.5062 - dense_3_accuracy: 0.8525 - dense_3_loss: 0.4230 - dense_4_accuracy: 0.8250 - dense_4_loss: 0.5375 - dense_5_accuracy: 0.8308 - dense_5_loss: 0.4449 - loss: 2.3653 - val_dense_1_accuracy: 0.9969 - val_dense_1_loss: 0.0467 - val_dense_2_accuracy: 0.9844 - val_dense_2_loss: 0.0696 - val_dense_3_accuracy: 0.9907 - val_dense_3_loss: 0.0859 - val_dense_4_accuracy: 1.0000 - val_dense_4_loss: 0.0639 - val_dense_5_accuracy: 0.9875 - val_dense_5_loss: 0.0694 - val_loss: 0.3237\n",
      "Epoch 13/200\n",
      "\u001b[1m129/129\u001b[0m \u001b[32m━━━━━━━━━━━━━━━━━━━━\u001b[0m\u001b[37m\u001b[0m \u001b[1m12s\u001b[0m 96ms/step - dense_1_accuracy: 0.8287 - dense_1_loss: 0.5057 - dense_2_accuracy: 0.8608 - dense_2_loss: 0.4068 - dense_3_accuracy: 0.8563 - dense_3_loss: 0.4130 - dense_4_accuracy: 0.8476 - dense_4_loss: 0.4297 - dense_5_accuracy: 0.8498 - dense_5_loss: 0.4174 - loss: 2.1725 - val_dense_1_accuracy: 0.9938 - val_dense_1_loss: 0.0338 - val_dense_2_accuracy: 1.0000 - val_dense_2_loss: 0.0545 - val_dense_3_accuracy: 0.9938 - val_dense_3_loss: 0.0806 - val_dense_4_accuracy: 0.9969 - val_dense_4_loss: 0.0549 - val_dense_5_accuracy: 0.9907 - val_dense_5_loss: 0.0644 - val_loss: 0.2808\n",
      "Epoch 14/200\n",
      "\u001b[1m129/129\u001b[0m \u001b[32m━━━━━━━━━━━━━━━━━━━━\u001b[0m\u001b[37m\u001b[0m \u001b[1m13s\u001b[0m 98ms/step - dense_1_accuracy: 0.8713 - dense_1_loss: 0.3764 - dense_2_accuracy: 0.8879 - dense_2_loss: 0.3375 - dense_3_accuracy: 0.8655 - dense_3_loss: 0.3950 - dense_4_accuracy: 0.8684 - dense_4_loss: 0.3976 - dense_5_accuracy: 0.8712 - dense_5_loss: 0.3716 - loss: 1.8783 - val_dense_1_accuracy: 0.9969 - val_dense_1_loss: 0.0182 - val_dense_2_accuracy: 0.9969 - val_dense_2_loss: 0.0383 - val_dense_3_accuracy: 0.9969 - val_dense_3_loss: 0.0584 - val_dense_4_accuracy: 1.0000 - val_dense_4_loss: 0.0328 - val_dense_5_accuracy: 1.0000 - val_dense_5_loss: 0.0208 - val_loss: 0.1601\n",
      "Epoch 15/200\n",
      "\u001b[1m129/129\u001b[0m \u001b[32m━━━━━━━━━━━━━━━━━━━━\u001b[0m\u001b[37m\u001b[0m \u001b[1m13s\u001b[0m 99ms/step - dense_1_accuracy: 0.8894 - dense_1_loss: 0.2995 - dense_2_accuracy: 0.8762 - dense_2_loss: 0.3416 - dense_3_accuracy: 0.8760 - dense_3_loss: 0.3879 - dense_4_accuracy: 0.8905 - dense_4_loss: 0.3363 - dense_5_accuracy: 0.8887 - dense_5_loss: 0.3613 - loss: 1.7265 - val_dense_1_accuracy: 0.9969 - val_dense_1_loss: 0.0184 - val_dense_2_accuracy: 0.9969 - val_dense_2_loss: 0.0271 - val_dense_3_accuracy: 0.9969 - val_dense_3_loss: 0.0580 - val_dense_4_accuracy: 0.9938 - val_dense_4_loss: 0.0280 - val_dense_5_accuracy: 1.0000 - val_dense_5_loss: 0.0193 - val_loss: 0.1467\n",
      "Epoch 16/200\n",
      "\u001b[1m129/129\u001b[0m \u001b[32m━━━━━━━━━━━━━━━━━━━━\u001b[0m\u001b[37m\u001b[0m \u001b[1m13s\u001b[0m 102ms/step - dense_1_accuracy: 0.8947 - dense_1_loss: 0.3108 - dense_2_accuracy: 0.8791 - dense_2_loss: 0.3422 - dense_3_accuracy: 0.8696 - dense_3_loss: 0.3640 - dense_4_accuracy: 0.8923 - dense_4_loss: 0.3245 - dense_5_accuracy: 0.8757 - dense_5_loss: 0.3569 - loss: 1.6984 - val_dense_1_accuracy: 1.0000 - val_dense_1_loss: 0.0103 - val_dense_2_accuracy: 0.9969 - val_dense_2_loss: 0.0259 - val_dense_3_accuracy: 0.9938 - val_dense_3_loss: 0.0623 - val_dense_4_accuracy: 0.9938 - val_dense_4_loss: 0.0285 - val_dense_5_accuracy: 1.0000 - val_dense_5_loss: 0.0178 - val_loss: 0.1444\n",
      "Epoch 17/200\n",
      "\u001b[1m129/129\u001b[0m \u001b[32m━━━━━━━━━━━━━━━━━━━━\u001b[0m\u001b[37m\u001b[0m \u001b[1m14s\u001b[0m 107ms/step - dense_1_accuracy: 0.9065 - dense_1_loss: 0.2890 - dense_2_accuracy: 0.8936 - dense_2_loss: 0.3141 - dense_3_accuracy: 0.8959 - dense_3_loss: 0.3380 - dense_4_accuracy: 0.8864 - dense_4_loss: 0.2910 - dense_5_accuracy: 0.8793 - dense_5_loss: 0.3728 - loss: 1.6050 - val_dense_1_accuracy: 1.0000 - val_dense_1_loss: 0.0094 - val_dense_2_accuracy: 1.0000 - val_dense_2_loss: 0.0196 - val_dense_3_accuracy: 0.9938 - val_dense_3_loss: 0.0567 - val_dense_4_accuracy: 0.9969 - val_dense_4_loss: 0.0235 - val_dense_5_accuracy: 1.0000 - val_dense_5_loss: 0.0115 - val_loss: 0.1202\n",
      "Epoch 18/200\n",
      "\u001b[1m129/129\u001b[0m \u001b[32m━━━━━━━━━━━━━━━━━━━━\u001b[0m\u001b[37m\u001b[0m \u001b[1m21s\u001b[0m 106ms/step - dense_1_accuracy: 0.8925 - dense_1_loss: 0.3010 - dense_2_accuracy: 0.8743 - dense_2_loss: 0.3744 - dense_3_accuracy: 0.9017 - dense_3_loss: 0.2688 - dense_4_accuracy: 0.8978 - dense_4_loss: 0.2960 - dense_5_accuracy: 0.9041 - dense_5_loss: 0.3049 - loss: 1.5453 - val_dense_1_accuracy: 1.0000 - val_dense_1_loss: 0.0068 - val_dense_2_accuracy: 0.9969 - val_dense_2_loss: 0.0176 - val_dense_3_accuracy: 0.9938 - val_dense_3_loss: 0.0586 - val_dense_4_accuracy: 1.0000 - val_dense_4_loss: 0.0139 - val_dense_5_accuracy: 1.0000 - val_dense_5_loss: 0.0125 - val_loss: 0.1103\n",
      "Epoch 19/200\n",
      "\u001b[1m129/129\u001b[0m \u001b[32m━━━━━━━━━━━━━━━━━━━━\u001b[0m\u001b[37m\u001b[0m \u001b[1m13s\u001b[0m 101ms/step - dense_1_accuracy: 0.9026 - dense_1_loss: 0.2876 - dense_2_accuracy: 0.8927 - dense_2_loss: 0.3136 - dense_3_accuracy: 0.9164 - dense_3_loss: 0.2669 - dense_4_accuracy: 0.8987 - dense_4_loss: 0.2602 - dense_5_accuracy: 0.9185 - dense_5_loss: 0.2544 - loss: 1.3827 - val_dense_1_accuracy: 1.0000 - val_dense_1_loss: 0.0060 - val_dense_2_accuracy: 1.0000 - val_dense_2_loss: 0.0131 - val_dense_3_accuracy: 0.9938 - val_dense_3_loss: 0.0577 - val_dense_4_accuracy: 1.0000 - val_dense_4_loss: 0.0179 - val_dense_5_accuracy: 1.0000 - val_dense_5_loss: 0.0123 - val_loss: 0.1048\n",
      "Epoch 20/200\n",
      "\u001b[1m129/129\u001b[0m \u001b[32m━━━━━━━━━━━━━━━━━━━━\u001b[0m\u001b[37m\u001b[0m \u001b[1m11s\u001b[0m 86ms/step - dense_1_accuracy: 0.9288 - dense_1_loss: 0.2141 - dense_2_accuracy: 0.8901 - dense_2_loss: 0.2991 - dense_3_accuracy: 0.8940 - dense_3_loss: 0.3181 - dense_4_accuracy: 0.9092 - dense_4_loss: 0.2832 - dense_5_accuracy: 0.9178 - dense_5_loss: 0.2366 - loss: 1.3509 - val_dense_1_accuracy: 1.0000 - val_dense_1_loss: 0.0058 - val_dense_2_accuracy: 0.9969 - val_dense_2_loss: 0.0128 - val_dense_3_accuracy: 0.9938 - val_dense_3_loss: 0.0643 - val_dense_4_accuracy: 1.0000 - val_dense_4_loss: 0.0153 - val_dense_5_accuracy: 1.0000 - val_dense_5_loss: 0.0119 - val_loss: 0.1094\n",
      "Epoch 21/200\n",
      "\u001b[1m129/129\u001b[0m \u001b[32m━━━━━━━━━━━━━━━━━━━━\u001b[0m\u001b[37m\u001b[0m \u001b[1m14s\u001b[0m 107ms/step - dense_1_accuracy: 0.9064 - dense_1_loss: 0.3037 - dense_2_accuracy: 0.9079 - dense_2_loss: 0.2586 - dense_3_accuracy: 0.9030 - dense_3_loss: 0.2567 - dense_4_accuracy: 0.9157 - dense_4_loss: 0.2821 - dense_5_accuracy: 0.9073 - dense_5_loss: 0.2939 - loss: 1.3951 - val_dense_1_accuracy: 1.0000 - val_dense_1_loss: 0.0041 - val_dense_2_accuracy: 1.0000 - val_dense_2_loss: 0.0146 - val_dense_3_accuracy: 0.9938 - val_dense_3_loss: 0.0622 - val_dense_4_accuracy: 1.0000 - val_dense_4_loss: 0.0123 - val_dense_5_accuracy: 1.0000 - val_dense_5_loss: 0.0091 - val_loss: 0.1042\n",
      "Epoch 22/200\n",
      "\u001b[1m129/129\u001b[0m \u001b[32m━━━━━━━━━━━━━━━━━━━━\u001b[0m\u001b[37m\u001b[0m \u001b[1m14s\u001b[0m 110ms/step - dense_1_accuracy: 0.9236 - dense_1_loss: 0.2144 - dense_2_accuracy: 0.9203 - dense_2_loss: 0.2483 - dense_3_accuracy: 0.9201 - dense_3_loss: 0.2238 - dense_4_accuracy: 0.9129 - dense_4_loss: 0.2519 - dense_5_accuracy: 0.9256 - dense_5_loss: 0.2093 - loss: 1.1475 - val_dense_1_accuracy: 1.0000 - val_dense_1_loss: 0.0026 - val_dense_2_accuracy: 1.0000 - val_dense_2_loss: 0.0071 - val_dense_3_accuracy: 0.9938 - val_dense_3_loss: 0.0638 - val_dense_4_accuracy: 1.0000 - val_dense_4_loss: 0.0093 - val_dense_5_accuracy: 1.0000 - val_dense_5_loss: 0.0107 - val_loss: 0.0913\n",
      "Epoch 23/200\n",
      "\u001b[1m129/129\u001b[0m \u001b[32m━━━━━━━━━━━━━━━━━━━━\u001b[0m\u001b[37m\u001b[0m \u001b[1m14s\u001b[0m 110ms/step - dense_1_accuracy: 0.9214 - dense_1_loss: 0.2002 - dense_2_accuracy: 0.9199 - dense_2_loss: 0.2346 - dense_3_accuracy: 0.9260 - dense_3_loss: 0.2210 - dense_4_accuracy: 0.8997 - dense_4_loss: 0.2618 - dense_5_accuracy: 0.9159 - dense_5_loss: 0.2958 - loss: 1.2127 - val_dense_1_accuracy: 1.0000 - val_dense_1_loss: 0.0070 - val_dense_2_accuracy: 0.9969 - val_dense_2_loss: 0.0197 - val_dense_3_accuracy: 0.9938 - val_dense_3_loss: 0.0836 - val_dense_4_accuracy: 1.0000 - val_dense_4_loss: 0.0123 - val_dense_5_accuracy: 1.0000 - val_dense_5_loss: 0.0085 - val_loss: 0.1027\n",
      "Epoch 24/200\n",
      "\u001b[1m129/129\u001b[0m \u001b[32m━━━━━━━━━━━━━━━━━━━━\u001b[0m\u001b[37m\u001b[0m \u001b[1m14s\u001b[0m 110ms/step - dense_1_accuracy: 0.9105 - dense_1_loss: 0.2211 - dense_2_accuracy: 0.9180 - dense_2_loss: 0.2568 - dense_3_accuracy: 0.8902 - dense_3_loss: 0.3318 - dense_4_accuracy: 0.9239 - dense_4_loss: 0.2380 - dense_5_accuracy: 0.9210 - dense_5_loss: 0.2317 - loss: 1.2794 - val_dense_1_accuracy: 1.0000 - val_dense_1_loss: 0.0022 - val_dense_2_accuracy: 1.0000 - val_dense_2_loss: 0.0076 - val_dense_3_accuracy: 0.9969 - val_dense_3_loss: 0.0730 - val_dense_4_accuracy: 1.0000 - val_dense_4_loss: 0.0081 - val_dense_5_accuracy: 1.0000 - val_dense_5_loss: 0.0080 - val_loss: 0.0914\n",
      "Epoch 25/200\n",
      "\u001b[1m129/129\u001b[0m \u001b[32m━━━━━━━━━━━━━━━━━━━━\u001b[0m\u001b[37m\u001b[0m \u001b[1m14s\u001b[0m 110ms/step - dense_1_accuracy: 0.9145 - dense_1_loss: 0.2382 - dense_2_accuracy: 0.9288 - dense_2_loss: 0.2191 - dense_3_accuracy: 0.9187 - dense_3_loss: 0.2415 - dense_4_accuracy: 0.9282 - dense_4_loss: 0.1989 - dense_5_accuracy: 0.9196 - dense_5_loss: 0.2373 - loss: 1.1351 - val_dense_1_accuracy: 1.0000 - val_dense_1_loss: 0.0019 - val_dense_2_accuracy: 1.0000 - val_dense_2_loss: 0.0072 - val_dense_3_accuracy: 0.9969 - val_dense_3_loss: 0.0594 - val_dense_4_accuracy: 1.0000 - val_dense_4_loss: 0.0045 - val_dense_5_accuracy: 1.0000 - val_dense_5_loss: 0.0076 - val_loss: 0.0822\n",
      "Epoch 26/200\n",
      "\u001b[1m129/129\u001b[0m \u001b[32m━━━━━━━━━━━━━━━━━━━━\u001b[0m\u001b[37m\u001b[0m \u001b[1m13s\u001b[0m 98ms/step - dense_1_accuracy: 0.9491 - dense_1_loss: 0.1409 - dense_2_accuracy: 0.9218 - dense_2_loss: 0.2277 - dense_3_accuracy: 0.9183 - dense_3_loss: 0.2324 - dense_4_accuracy: 0.9411 - dense_4_loss: 0.1809 - dense_5_accuracy: 0.9399 - dense_5_loss: 0.1693 - loss: 0.9513 - val_dense_1_accuracy: 1.0000 - val_dense_1_loss: 0.0023 - val_dense_2_accuracy: 0.9969 - val_dense_2_loss: 0.0091 - val_dense_3_accuracy: 0.9969 - val_dense_3_loss: 0.0521 - val_dense_4_accuracy: 0.9969 - val_dense_4_loss: 0.0094 - val_dense_5_accuracy: 1.0000 - val_dense_5_loss: 0.0040 - val_loss: 0.0780\n",
      "Epoch 27/200\n",
      "\u001b[1m129/129\u001b[0m \u001b[32m━━━━━━━━━━━━━━━━━━━━\u001b[0m\u001b[37m\u001b[0m \u001b[1m13s\u001b[0m 104ms/step - dense_1_accuracy: 0.9359 - dense_1_loss: 0.2045 - dense_2_accuracy: 0.9250 - dense_2_loss: 0.1765 - dense_3_accuracy: 0.9201 - dense_3_loss: 0.2044 - dense_4_accuracy: 0.9322 - dense_4_loss: 0.1929 - dense_5_accuracy: 0.9414 - dense_5_loss: 0.1492 - loss: 0.9277 - val_dense_1_accuracy: 1.0000 - val_dense_1_loss: 0.0032 - val_dense_2_accuracy: 1.0000 - val_dense_2_loss: 0.0067 - val_dense_3_accuracy: 0.9938 - val_dense_3_loss: 0.0622 - val_dense_4_accuracy: 1.0000 - val_dense_4_loss: 0.0069 - val_dense_5_accuracy: 1.0000 - val_dense_5_loss: 0.0027 - val_loss: 0.0813\n",
      "Epoch 28/200\n",
      "\u001b[1m129/129\u001b[0m \u001b[32m━━━━━━━━━━━━━━━━━━━━\u001b[0m\u001b[37m\u001b[0m \u001b[1m14s\u001b[0m 108ms/step - dense_1_accuracy: 0.9486 - dense_1_loss: 0.1590 - dense_2_accuracy: 0.9243 - dense_2_loss: 0.2202 - dense_3_accuracy: 0.9357 - dense_3_loss: 0.1868 - dense_4_accuracy: 0.9379 - dense_4_loss: 0.1683 - dense_5_accuracy: 0.9149 - dense_5_loss: 0.2289 - loss: 0.9632 - val_dense_1_accuracy: 0.9969 - val_dense_1_loss: 0.0051 - val_dense_2_accuracy: 1.0000 - val_dense_2_loss: 0.0041 - val_dense_3_accuracy: 0.9969 - val_dense_3_loss: 0.0552 - val_dense_4_accuracy: 1.0000 - val_dense_4_loss: 0.0037 - val_dense_5_accuracy: 1.0000 - val_dense_5_loss: 0.0063 - val_loss: 0.0749\n",
      "Epoch 29/200\n",
      "\u001b[1m129/129\u001b[0m \u001b[32m━━━━━━━━━━━━━━━━━━━━\u001b[0m\u001b[37m\u001b[0m \u001b[1m14s\u001b[0m 107ms/step - dense_1_accuracy: 0.9419 - dense_1_loss: 0.1764 - dense_2_accuracy: 0.9468 - dense_2_loss: 0.1686 - dense_3_accuracy: 0.9405 - dense_3_loss: 0.1852 - dense_4_accuracy: 0.9292 - dense_4_loss: 0.2262 - dense_5_accuracy: 0.9457 - dense_5_loss: 0.1648 - loss: 0.9214 - val_dense_1_accuracy: 1.0000 - val_dense_1_loss: 0.0022 - val_dense_2_accuracy: 1.0000 - val_dense_2_loss: 0.0036 - val_dense_3_accuracy: 0.9875 - val_dense_3_loss: 0.0603 - val_dense_4_accuracy: 1.0000 - val_dense_4_loss: 0.0035 - val_dense_5_accuracy: 1.0000 - val_dense_5_loss: 0.0037 - val_loss: 0.0742\n",
      "Epoch 30/200\n",
      "\u001b[1m129/129\u001b[0m \u001b[32m━━━━━━━━━━━━━━━━━━━━\u001b[0m\u001b[37m\u001b[0m \u001b[1m13s\u001b[0m 102ms/step - dense_1_accuracy: 0.9251 - dense_1_loss: 0.1899 - dense_2_accuracy: 0.9503 - dense_2_loss: 0.1479 - dense_3_accuracy: 0.9234 - dense_3_loss: 0.2107 - dense_4_accuracy: 0.9393 - dense_4_loss: 0.2127 - dense_5_accuracy: 0.9330 - dense_5_loss: 0.2170 - loss: 0.9781 - val_dense_1_accuracy: 1.0000 - val_dense_1_loss: 0.0024 - val_dense_2_accuracy: 1.0000 - val_dense_2_loss: 0.0076 - val_dense_3_accuracy: 0.9969 - val_dense_3_loss: 0.0478 - val_dense_4_accuracy: 1.0000 - val_dense_4_loss: 0.0029 - val_dense_5_accuracy: 1.0000 - val_dense_5_loss: 0.0025 - val_loss: 0.0610\n",
      "Epoch 31/200\n",
      "\u001b[1m129/129\u001b[0m \u001b[32m━━━━━━━━━━━━━━━━━━━━\u001b[0m\u001b[37m\u001b[0m \u001b[1m14s\u001b[0m 107ms/step - dense_1_accuracy: 0.9530 - dense_1_loss: 0.1346 - dense_2_accuracy: 0.9196 - dense_2_loss: 0.2297 - dense_3_accuracy: 0.9315 - dense_3_loss: 0.1935 - dense_4_accuracy: 0.9295 - dense_4_loss: 0.1920 - dense_5_accuracy: 0.9554 - dense_5_loss: 0.1447 - loss: 0.8945 - val_dense_1_accuracy: 1.0000 - val_dense_1_loss: 0.0020 - val_dense_2_accuracy: 1.0000 - val_dense_2_loss: 0.0037 - val_dense_3_accuracy: 0.9938 - val_dense_3_loss: 0.0416 - val_dense_4_accuracy: 1.0000 - val_dense_4_loss: 0.0052 - val_dense_5_accuracy: 1.0000 - val_dense_5_loss: 0.0026 - val_loss: 0.0557\n",
      "Epoch 32/200\n",
      "\u001b[1m129/129\u001b[0m \u001b[32m━━━━━━━━━━━━━━━━━━━━\u001b[0m\u001b[37m\u001b[0m \u001b[1m14s\u001b[0m 110ms/step - dense_1_accuracy: 0.9445 - dense_1_loss: 0.1375 - dense_2_accuracy: 0.9345 - dense_2_loss: 0.1954 - dense_3_accuracy: 0.9254 - dense_3_loss: 0.1997 - dense_4_accuracy: 0.9403 - dense_4_loss: 0.1731 - dense_5_accuracy: 0.9391 - dense_5_loss: 0.1683 - loss: 0.8740 - val_dense_1_accuracy: 1.0000 - val_dense_1_loss: 0.0016 - val_dense_2_accuracy: 1.0000 - val_dense_2_loss: 0.0037 - val_dense_3_accuracy: 0.9938 - val_dense_3_loss: 0.0572 - val_dense_4_accuracy: 1.0000 - val_dense_4_loss: 0.0036 - val_dense_5_accuracy: 1.0000 - val_dense_5_loss: 0.0037 - val_loss: 0.0705\n",
      "Epoch 33/200\n",
      "\u001b[1m129/129\u001b[0m \u001b[32m━━━━━━━━━━━━━━━━━━━━\u001b[0m\u001b[37m\u001b[0m \u001b[1m14s\u001b[0m 106ms/step - dense_1_accuracy: 0.9327 - dense_1_loss: 0.1769 - dense_2_accuracy: 0.9464 - dense_2_loss: 0.1785 - dense_3_accuracy: 0.9398 - dense_3_loss: 0.1680 - dense_4_accuracy: 0.9433 - dense_4_loss: 0.1602 - dense_5_accuracy: 0.9277 - dense_5_loss: 0.1975 - loss: 0.8811 - val_dense_1_accuracy: 1.0000 - val_dense_1_loss: 0.0017 - val_dense_2_accuracy: 1.0000 - val_dense_2_loss: 0.0030 - val_dense_3_accuracy: 0.9969 - val_dense_3_loss: 0.0517 - val_dense_4_accuracy: 1.0000 - val_dense_4_loss: 0.0028 - val_dense_5_accuracy: 1.0000 - val_dense_5_loss: 0.0022 - val_loss: 0.0628\n",
      "Epoch 34/200\n",
      "\u001b[1m129/129\u001b[0m \u001b[32m━━━━━━━━━━━━━━━━━━━━\u001b[0m\u001b[37m\u001b[0m \u001b[1m14s\u001b[0m 108ms/step - dense_1_accuracy: 0.9400 - dense_1_loss: 0.1609 - dense_2_accuracy: 0.9583 - dense_2_loss: 0.1384 - dense_3_accuracy: 0.9536 - dense_3_loss: 0.1436 - dense_4_accuracy: 0.9363 - dense_4_loss: 0.1886 - dense_5_accuracy: 0.9469 - dense_5_loss: 0.1684 - loss: 0.8000 - val_dense_1_accuracy: 1.0000 - val_dense_1_loss: 0.0015 - val_dense_2_accuracy: 1.0000 - val_dense_2_loss: 0.0058 - val_dense_3_accuracy: 0.9969 - val_dense_3_loss: 0.0460 - val_dense_4_accuracy: 1.0000 - val_dense_4_loss: 0.0024 - val_dense_5_accuracy: 1.0000 - val_dense_5_loss: 0.0023 - val_loss: 0.0556\n",
      "Epoch 35/200\n",
      "\u001b[1m129/129\u001b[0m \u001b[32m━━━━━━━━━━━━━━━━━━━━\u001b[0m\u001b[37m\u001b[0m \u001b[1m14s\u001b[0m 106ms/step - dense_1_accuracy: 0.9582 - dense_1_loss: 0.1123 - dense_2_accuracy: 0.9397 - dense_2_loss: 0.1581 - dense_3_accuracy: 0.9312 - dense_3_loss: 0.2236 - dense_4_accuracy: 0.9451 - dense_4_loss: 0.1650 - dense_5_accuracy: 0.9363 - dense_5_loss: 0.1708 - loss: 0.8299 - val_dense_1_accuracy: 0.9969 - val_dense_1_loss: 0.0050 - val_dense_2_accuracy: 1.0000 - val_dense_2_loss: 0.0016 - val_dense_3_accuracy: 0.9969 - val_dense_3_loss: 0.0453 - val_dense_4_accuracy: 1.0000 - val_dense_4_loss: 0.0036 - val_dense_5_accuracy: 1.0000 - val_dense_5_loss: 0.0020 - val_loss: 0.0577\n",
      "Epoch 36/200\n",
      "\u001b[1m129/129\u001b[0m \u001b[32m━━━━━━━━━━━━━━━━━━━━\u001b[0m\u001b[37m\u001b[0m \u001b[1m14s\u001b[0m 108ms/step - dense_1_accuracy: 0.9512 - dense_1_loss: 0.1239 - dense_2_accuracy: 0.9457 - dense_2_loss: 0.1619 - dense_3_accuracy: 0.9425 - dense_3_loss: 0.2065 - dense_4_accuracy: 0.9401 - dense_4_loss: 0.1633 - dense_5_accuracy: 0.9446 - dense_5_loss: 0.2008 - loss: 0.8565 - val_dense_1_accuracy: 1.0000 - val_dense_1_loss: 0.0027 - val_dense_2_accuracy: 1.0000 - val_dense_2_loss: 0.0023 - val_dense_3_accuracy: 0.9969 - val_dense_3_loss: 0.0512 - val_dense_4_accuracy: 1.0000 - val_dense_4_loss: 0.0021 - val_dense_5_accuracy: 1.0000 - val_dense_5_loss: 0.0027 - val_loss: 0.0620\n",
      "Epoch 37/200\n",
      "\u001b[1m129/129\u001b[0m \u001b[32m━━━━━━━━━━━━━━━━━━━━\u001b[0m\u001b[37m\u001b[0m \u001b[1m14s\u001b[0m 110ms/step - dense_1_accuracy: 0.9555 - dense_1_loss: 0.1433 - dense_2_accuracy: 0.9572 - dense_2_loss: 0.1420 - dense_3_accuracy: 0.9401 - dense_3_loss: 0.1770 - dense_4_accuracy: 0.9433 - dense_4_loss: 0.1626 - dense_5_accuracy: 0.9499 - dense_5_loss: 0.1234 - loss: 0.7484 - val_dense_1_accuracy: 1.0000 - val_dense_1_loss: 6.9312e-04 - val_dense_2_accuracy: 1.0000 - val_dense_2_loss: 0.0041 - val_dense_3_accuracy: 0.9969 - val_dense_3_loss: 0.0545 - val_dense_4_accuracy: 1.0000 - val_dense_4_loss: 0.0064 - val_dense_5_accuracy: 1.0000 - val_dense_5_loss: 9.0173e-04 - val_loss: 0.0681\n",
      "Epoch 38/200\n",
      "\u001b[1m129/129\u001b[0m \u001b[32m━━━━━━━━━━━━━━━━━━━━\u001b[0m\u001b[37m\u001b[0m \u001b[1m14s\u001b[0m 110ms/step - dense_1_accuracy: 0.9632 - dense_1_loss: 0.1081 - dense_2_accuracy: 0.9503 - dense_2_loss: 0.1626 - dense_3_accuracy: 0.9427 - dense_3_loss: 0.2034 - dense_4_accuracy: 0.9474 - dense_4_loss: 0.1531 - dense_5_accuracy: 0.9493 - dense_5_loss: 0.1377 - loss: 0.7648 - val_dense_1_accuracy: 1.0000 - val_dense_1_loss: 0.0019 - val_dense_2_accuracy: 1.0000 - val_dense_2_loss: 0.0018 - val_dense_3_accuracy: 0.9969 - val_dense_3_loss: 0.0434 - val_dense_4_accuracy: 1.0000 - val_dense_4_loss: 0.0014 - val_dense_5_accuracy: 1.0000 - val_dense_5_loss: 0.0022 - val_loss: 0.0517\n",
      "Epoch 39/200\n",
      "\u001b[1m129/129\u001b[0m \u001b[32m━━━━━━━━━━━━━━━━━━━━\u001b[0m\u001b[37m\u001b[0m \u001b[1m15s\u001b[0m 113ms/step - dense_1_accuracy: 0.9555 - dense_1_loss: 0.1426 - dense_2_accuracy: 0.9436 - dense_2_loss: 0.1669 - dense_3_accuracy: 0.9410 - dense_3_loss: 0.1517 - dense_4_accuracy: 0.9614 - dense_4_loss: 0.1348 - dense_5_accuracy: 0.9520 - dense_5_loss: 0.1382 - loss: 0.7342 - val_dense_1_accuracy: 1.0000 - val_dense_1_loss: 6.5533e-04 - val_dense_2_accuracy: 1.0000 - val_dense_2_loss: 7.7994e-04 - val_dense_3_accuracy: 0.9938 - val_dense_3_loss: 0.0514 - val_dense_4_accuracy: 1.0000 - val_dense_4_loss: 0.0018 - val_dense_5_accuracy: 1.0000 - val_dense_5_loss: 0.0010 - val_loss: 0.0570\n",
      "Epoch 40/200\n",
      "\u001b[1m129/129\u001b[0m \u001b[32m━━━━━━━━━━━━━━━━━━━━\u001b[0m\u001b[37m\u001b[0m \u001b[1m14s\u001b[0m 106ms/step - dense_1_accuracy: 0.9440 - dense_1_loss: 0.1474 - dense_2_accuracy: 0.9535 - dense_2_loss: 0.1483 - dense_3_accuracy: 0.9531 - dense_3_loss: 0.1781 - dense_4_accuracy: 0.9479 - dense_4_loss: 0.1557 - dense_5_accuracy: 0.9388 - dense_5_loss: 0.1883 - loss: 0.8180 - val_dense_1_accuracy: 1.0000 - val_dense_1_loss: 6.1883e-04 - val_dense_2_accuracy: 1.0000 - val_dense_2_loss: 0.0013 - val_dense_3_accuracy: 0.9969 - val_dense_3_loss: 0.0514 - val_dense_4_accuracy: 1.0000 - val_dense_4_loss: 0.0036 - val_dense_5_accuracy: 1.0000 - val_dense_5_loss: 0.0012 - val_loss: 0.0595\n",
      "Epoch 41/200\n",
      "\u001b[1m129/129\u001b[0m \u001b[32m━━━━━━━━━━━━━━━━━━━━\u001b[0m\u001b[37m\u001b[0m \u001b[1m14s\u001b[0m 112ms/step - dense_1_accuracy: 0.9610 - dense_1_loss: 0.1243 - dense_2_accuracy: 0.9547 - dense_2_loss: 0.1463 - dense_3_accuracy: 0.9554 - dense_3_loss: 0.1511 - dense_4_accuracy: 0.9546 - dense_4_loss: 0.1291 - dense_5_accuracy: 0.9632 - dense_5_loss: 0.1128 - loss: 0.6636 - val_dense_1_accuracy: 1.0000 - val_dense_1_loss: 5.4083e-04 - val_dense_2_accuracy: 1.0000 - val_dense_2_loss: 0.0013 - val_dense_3_accuracy: 0.9969 - val_dense_3_loss: 0.0534 - val_dense_4_accuracy: 1.0000 - val_dense_4_loss: 0.0016 - val_dense_5_accuracy: 1.0000 - val_dense_5_loss: 8.6124e-04 - val_loss: 0.0590\n",
      "Epoch 42/200\n",
      "\u001b[1m129/129\u001b[0m \u001b[32m━━━━━━━━━━━━━━━━━━━━\u001b[0m\u001b[37m\u001b[0m \u001b[1m14s\u001b[0m 110ms/step - dense_1_accuracy: 0.9674 - dense_1_loss: 0.1049 - dense_2_accuracy: 0.9546 - dense_2_loss: 0.1432 - dense_3_accuracy: 0.9507 - dense_3_loss: 0.1340 - dense_4_accuracy: 0.9685 - dense_4_loss: 0.0950 - dense_5_accuracy: 0.9483 - dense_5_loss: 0.1629 - loss: 0.6399 - val_dense_1_accuracy: 1.0000 - val_dense_1_loss: 0.0010 - val_dense_2_accuracy: 1.0000 - val_dense_2_loss: 0.0013 - val_dense_3_accuracy: 0.9938 - val_dense_3_loss: 0.0418 - val_dense_4_accuracy: 1.0000 - val_dense_4_loss: 0.0036 - val_dense_5_accuracy: 1.0000 - val_dense_5_loss: 9.0609e-04 - val_loss: 0.0499\n",
      "Epoch 43/200\n",
      "\u001b[1m129/129\u001b[0m \u001b[32m━━━━━━━━━━━━━━━━━━━━\u001b[0m\u001b[37m\u001b[0m \u001b[1m13s\u001b[0m 103ms/step - dense_1_accuracy: 0.9451 - dense_1_loss: 0.1455 - dense_2_accuracy: 0.9575 - dense_2_loss: 0.1475 - dense_3_accuracy: 0.9467 - dense_3_loss: 0.1359 - dense_4_accuracy: 0.9559 - dense_4_loss: 0.1184 - dense_5_accuracy: 0.9600 - dense_5_loss: 0.1100 - loss: 0.6570 - val_dense_1_accuracy: 1.0000 - val_dense_1_loss: 8.6802e-04 - val_dense_2_accuracy: 1.0000 - val_dense_2_loss: 0.0012 - val_dense_3_accuracy: 0.9938 - val_dense_3_loss: 0.0443 - val_dense_4_accuracy: 1.0000 - val_dense_4_loss: 0.0013 - val_dense_5_accuracy: 1.0000 - val_dense_5_loss: 0.0012 - val_loss: 0.0500\n",
      "Epoch 44/200\n",
      "\u001b[1m129/129\u001b[0m \u001b[32m━━━━━━━━━━━━━━━━━━━━\u001b[0m\u001b[37m\u001b[0m \u001b[1m14s\u001b[0m 107ms/step - dense_1_accuracy: 0.9439 - dense_1_loss: 0.1694 - dense_2_accuracy: 0.9493 - dense_2_loss: 0.1730 - dense_3_accuracy: 0.9537 - dense_3_loss: 0.1565 - dense_4_accuracy: 0.9525 - dense_4_loss: 0.1655 - dense_5_accuracy: 0.9499 - dense_5_loss: 0.1517 - loss: 0.8162 - val_dense_1_accuracy: 1.0000 - val_dense_1_loss: 8.3155e-04 - val_dense_2_accuracy: 1.0000 - val_dense_2_loss: 0.0014 - val_dense_3_accuracy: 0.9969 - val_dense_3_loss: 0.0494 - val_dense_4_accuracy: 1.0000 - val_dense_4_loss: 0.0028 - val_dense_5_accuracy: 1.0000 - val_dense_5_loss: 6.4686e-04 - val_loss: 0.0566\n",
      "Epoch 45/200\n",
      "\u001b[1m129/129\u001b[0m \u001b[32m━━━━━━━━━━━━━━━━━━━━\u001b[0m\u001b[37m\u001b[0m \u001b[1m14s\u001b[0m 104ms/step - dense_1_accuracy: 0.9735 - dense_1_loss: 0.0927 - dense_2_accuracy: 0.9423 - dense_2_loss: 0.1676 - dense_3_accuracy: 0.9506 - dense_3_loss: 0.1306 - dense_4_accuracy: 0.9471 - dense_4_loss: 0.1688 - dense_5_accuracy: 0.9589 - dense_5_loss: 0.1303 - loss: 0.6900 - val_dense_1_accuracy: 1.0000 - val_dense_1_loss: 6.2147e-04 - val_dense_2_accuracy: 1.0000 - val_dense_2_loss: 7.3822e-04 - val_dense_3_accuracy: 0.9969 - val_dense_3_loss: 0.0469 - val_dense_4_accuracy: 1.0000 - val_dense_4_loss: 0.0016 - val_dense_5_accuracy: 1.0000 - val_dense_5_loss: 0.0011 - val_loss: 0.0523\n",
      "Epoch 46/200\n",
      "\u001b[1m129/129\u001b[0m \u001b[32m━━━━━━━━━━━━━━━━━━━━\u001b[0m\u001b[37m\u001b[0m \u001b[1m11s\u001b[0m 86ms/step - dense_1_accuracy: 0.9496 - dense_1_loss: 0.1651 - dense_2_accuracy: 0.9451 - dense_2_loss: 0.1408 - dense_3_accuracy: 0.9402 - dense_3_loss: 0.1803 - dense_4_accuracy: 0.9456 - dense_4_loss: 0.1769 - dense_5_accuracy: 0.9611 - dense_5_loss: 0.1283 - loss: 0.7915 - val_dense_1_accuracy: 1.0000 - val_dense_1_loss: 7.1284e-04 - val_dense_2_accuracy: 1.0000 - val_dense_2_loss: 7.6767e-04 - val_dense_3_accuracy: 0.9969 - val_dense_3_loss: 0.0554 - val_dense_4_accuracy: 1.0000 - val_dense_4_loss: 0.0025 - val_dense_5_accuracy: 1.0000 - val_dense_5_loss: 0.0021 - val_loss: 0.0632\n",
      "Epoch 47/200\n",
      "\u001b[1m129/129\u001b[0m \u001b[32m━━━━━━━━━━━━━━━━━━━━\u001b[0m\u001b[37m\u001b[0m \u001b[1m10s\u001b[0m 76ms/step - dense_1_accuracy: 0.9572 - dense_1_loss: 0.1302 - dense_2_accuracy: 0.9677 - dense_2_loss: 0.1005 - dense_3_accuracy: 0.9565 - dense_3_loss: 0.1072 - dense_4_accuracy: 0.9618 - dense_4_loss: 0.1167 - dense_5_accuracy: 0.9691 - dense_5_loss: 0.0976 - loss: 0.5522 - val_dense_1_accuracy: 1.0000 - val_dense_1_loss: 6.2903e-04 - val_dense_2_accuracy: 1.0000 - val_dense_2_loss: 0.0020 - val_dense_3_accuracy: 0.9969 - val_dense_3_loss: 0.0570 - val_dense_4_accuracy: 1.0000 - val_dense_4_loss: 8.5532e-04 - val_dense_5_accuracy: 1.0000 - val_dense_5_loss: 0.0030 - val_loss: 0.0652\n",
      "Epoch 48/200\n",
      "\u001b[1m129/129\u001b[0m \u001b[32m━━━━━━━━━━━━━━━━━━━━\u001b[0m\u001b[37m\u001b[0m \u001b[1m12s\u001b[0m 95ms/step - dense_1_accuracy: 0.9657 - dense_1_loss: 0.0910 - dense_2_accuracy: 0.9627 - dense_2_loss: 0.1189 - dense_3_accuracy: 0.9587 - dense_3_loss: 0.1313 - dense_4_accuracy: 0.9650 - dense_4_loss: 0.0975 - dense_5_accuracy: 0.9633 - dense_5_loss: 0.1050 - loss: 0.5437 - val_dense_1_accuracy: 1.0000 - val_dense_1_loss: 2.9028e-04 - val_dense_2_accuracy: 1.0000 - val_dense_2_loss: 0.0012 - val_dense_3_accuracy: 0.9969 - val_dense_3_loss: 0.0603 - val_dense_4_accuracy: 1.0000 - val_dense_4_loss: 0.0019 - val_dense_5_accuracy: 1.0000 - val_dense_5_loss: 0.0021 - val_loss: 0.0676\n",
      "Epoch 49/200\n",
      "\u001b[1m129/129\u001b[0m \u001b[32m━━━━━━━━━━━━━━━━━━━━\u001b[0m\u001b[37m\u001b[0m \u001b[1m8s\u001b[0m 60ms/step - dense_1_accuracy: 0.9597 - dense_1_loss: 0.1294 - dense_2_accuracy: 0.9518 - dense_2_loss: 0.1416 - dense_3_accuracy: 0.9675 - dense_3_loss: 0.1097 - dense_4_accuracy: 0.9535 - dense_4_loss: 0.1351 - dense_5_accuracy: 0.9525 - dense_5_loss: 0.1203 - loss: 0.6362 - val_dense_1_accuracy: 1.0000 - val_dense_1_loss: 0.0027 - val_dense_2_accuracy: 1.0000 - val_dense_2_loss: 0.0025 - val_dense_3_accuracy: 0.9969 - val_dense_3_loss: 0.0626 - val_dense_4_accuracy: 1.0000 - val_dense_4_loss: 0.0028 - val_dense_5_accuracy: 1.0000 - val_dense_5_loss: 9.7754e-04 - val_loss: 0.0734\n",
      "Epoch 50/200\n",
      "\u001b[1m129/129\u001b[0m \u001b[32m━━━━━━━━━━━━━━━━━━━━\u001b[0m\u001b[37m\u001b[0m \u001b[1m7s\u001b[0m 56ms/step - dense_1_accuracy: 0.9670 - dense_1_loss: 0.0842 - dense_2_accuracy: 0.9707 - dense_2_loss: 0.0937 - dense_3_accuracy: 0.9703 - dense_3_loss: 0.1063 - dense_4_accuracy: 0.9645 - dense_4_loss: 0.1036 - dense_5_accuracy: 0.9770 - dense_5_loss: 0.0846 - loss: 0.4724 - val_dense_1_accuracy: 1.0000 - val_dense_1_loss: 3.3210e-04 - val_dense_2_accuracy: 1.0000 - val_dense_2_loss: 7.5398e-04 - val_dense_3_accuracy: 0.9969 - val_dense_3_loss: 0.0695 - val_dense_4_accuracy: 1.0000 - val_dense_4_loss: 7.1770e-04 - val_dense_5_accuracy: 1.0000 - val_dense_5_loss: 0.0016 - val_loss: 0.0749\n",
      "Epoch 51/200\n",
      "\u001b[1m129/129\u001b[0m \u001b[32m━━━━━━━━━━━━━━━━━━━━\u001b[0m\u001b[37m\u001b[0m \u001b[1m7s\u001b[0m 56ms/step - dense_1_accuracy: 0.9700 - dense_1_loss: 0.0793 - dense_2_accuracy: 0.9493 - dense_2_loss: 0.1659 - dense_3_accuracy: 0.9570 - dense_3_loss: 0.1224 - dense_4_accuracy: 0.9561 - dense_4_loss: 0.1298 - dense_5_accuracy: 0.9563 - dense_5_loss: 0.1155 - loss: 0.6130 - val_dense_1_accuracy: 1.0000 - val_dense_1_loss: 9.1549e-04 - val_dense_2_accuracy: 1.0000 - val_dense_2_loss: 0.0018 - val_dense_3_accuracy: 0.9969 - val_dense_3_loss: 0.0553 - val_dense_4_accuracy: 1.0000 - val_dense_4_loss: 0.0018 - val_dense_5_accuracy: 1.0000 - val_dense_5_loss: 0.0031 - val_loss: 0.0646\n",
      "Epoch 52/200\n",
      "\u001b[1m129/129\u001b[0m \u001b[32m━━━━━━━━━━━━━━━━━━━━\u001b[0m\u001b[37m\u001b[0m \u001b[1m7s\u001b[0m 56ms/step - dense_1_accuracy: 0.9568 - dense_1_loss: 0.1034 - dense_2_accuracy: 0.9583 - dense_2_loss: 0.1376 - dense_3_accuracy: 0.9782 - dense_3_loss: 0.0729 - dense_4_accuracy: 0.9676 - dense_4_loss: 0.0864 - dense_5_accuracy: 0.9512 - dense_5_loss: 0.1403 - loss: 0.5407 - val_dense_1_accuracy: 1.0000 - val_dense_1_loss: 3.4347e-04 - val_dense_2_accuracy: 1.0000 - val_dense_2_loss: 7.9689e-04 - val_dense_3_accuracy: 0.9969 - val_dense_3_loss: 0.0578 - val_dense_4_accuracy: 1.0000 - val_dense_4_loss: 0.0014 - val_dense_5_accuracy: 1.0000 - val_dense_5_loss: 0.0017 - val_loss: 0.0637\n"
     ]
    }
   ],
   "source": [
    "history = model.fit(\n",
    "    X_train, y_train,\n",
    "    validation_data=(X_val, y_val),\n",
    "    epochs=200,\n",
    "    batch_size=10,\n",
    "    callbacks = [model_ckpt, early_stop]\n",
    ")\n"
   ]
  },
  {
   "cell_type": "markdown",
   "id": "68bbfd0c",
   "metadata": {},
   "source": [
    "### Evaluate and Result Structure:\n",
    "\n",
    "- For 5 digit:\n",
    "<br>\n",
    "Index 1..5 → Loss for each digit\n",
    "<br>\n",
    "Index 6..10 → accuracy for each digit"
   ]
  },
  {
   "cell_type": "code",
   "execution_count": 22,
   "id": "3d188fc6",
   "metadata": {},
   "outputs": [
    {
     "name": "stdout",
     "output_type": "stream",
     "text": [
      "\u001b[1m13/13\u001b[0m \u001b[32m━━━━━━━━━━━━━━━━━━━━\u001b[0m\u001b[37m\u001b[0m \u001b[1m0s\u001b[0m 26ms/step - dense_1_accuracy: 1.0000 - dense_1_loss: 0.0011 - dense_2_accuracy: 1.0000 - dense_2_loss: 0.0025 - dense_3_accuracy: 1.0000 - dense_3_loss: 7.6406e-04 - dense_4_accuracy: 1.0000 - dense_4_loss: 0.0021 - dense_5_accuracy: 1.0000 - dense_5_loss: 0.0010 - loss: 0.0075  \n",
      "Evaluation results (loss and accuracy for each output):\n",
      "Digit 0 | Loss: 0.0007330211228691041 , Accuracy: 1.0\n",
      "Digit 1 | Loss: 0.003275386756286025 , Accuracy: 1.0\n",
      "Digit 2 | Loss: 0.0007991300080902874 , Accuracy: 1.0\n",
      "Digit 3 | Loss: 0.003223732579499483 , Accuracy: 1.0\n",
      "Digit 4 | Loss: 0.0011421374510973692 , Accuracy: 1.0\n"
     ]
    }
   ],
   "source": [
    "results = model.evaluate(X_test, y_test, batch_size=32)\n",
    "print(\"Evaluation results (loss and accuracy for each output):\")\n",
    "for i in range(num_digits):\n",
    "    loss_i = results[1 + i]              \n",
    "    acc_i  = results[1 + num_digits + i]\n",
    "    print(f\"Digit {i} | Loss: {loss_i} , Accuracy: {acc_i}\")\n"
   ]
  },
  {
   "cell_type": "markdown",
   "id": "c083819f",
   "metadata": {},
   "source": [
    "### Predict"
   ]
  },
  {
   "cell_type": "code",
   "execution_count": 2,
   "id": "0a26aa67",
   "metadata": {},
   "outputs": [],
   "source": [
    "def preprocess_image(image_path, img_height=40, img_width=100):\n",
    "    img = keras.preprocessing.image.load_img(image_path, target_size=(img_height, img_width), color_mode='grayscale')\n",
    "    img = keras.preprocessing.image.img_to_array(img) / 255.0\n",
    "    img = np.expand_dims(img, axis=0) \n",
    "    return img"
   ]
  },
  {
   "cell_type": "code",
   "execution_count": null,
   "id": "ac42ca95",
   "metadata": {},
   "outputs": [
    {
     "data": {
      "image/png": "[encoded data removed]",
      "text/plain": [
       "<Figure size 640x480 with 1 Axes>"
      ]
     },
     "metadata": {},
     "output_type": "display_data"
    },
    {
     "name": "stdout",
     "output_type": "stream",
     "text": [
      "\u001b[1m1/1\u001b[0m \u001b[32m━━━━━━━━━━━━━━━━━━━━\u001b[0m\u001b[37m\u001b[0m \u001b[1m0s\u001b[0m 56ms/step\n",
      "Predicted captcha: 23076\n"
     ]
    }
   ],
   "source": [
    "import matplotlib.pyplot as plt\n",
    "from PIL import Image\n",
    "\n",
    "img = Image.open(\"test6.png\")\n",
    "plt.imshow(img)\n",
    "plt.axis(\"off\")\n",
    "plt.show()\n",
    "\n",
    "# img address for predict\n",
    "new_image_path = 'test6.png'\n",
    "img = preprocess_image(new_image_path, img_height, img_width)\n",
    "\n",
    "preds = model.predict(img)\n",
    "\n",
    "\n",
    "# Choose the highest probability\n",
    "pred_digits = [np.argmax(p, axis=1)[0] for p in preds]\n",
    "\n",
    "\n",
    "captcha_pred = ''.join(str(d) for d in pred_digits)\n",
    "print(\"Predicted captcha:\", captcha_pred)"
   ]
  }
 ],
 "metadata": {
  "kernelspec": {
   "display_name": "tf-env",
   "language": "python",
   "name": "python3"
  },
  "language_info": {
   "codemirror_mode": {
    "name": "ipython",
    "version": 3
   },
   "file_extension": ".py",
   "mimetype": "text/x-python",
   "name": "python",
   "nbconvert_exporter": "python",
   "pygments_lexer": "ipython3",
   "version": "3.12.7"
  }
 },
 "nbformat": 4,
 "nbformat_minor": 5
}
